{
  "nbformat": 4,
  "nbformat_minor": 0,
  "metadata": {
    "colab": {
      "provenance": [],
      "collapsed_sections": [
        "jBFopvD4cWve"
      ],
      "authorship_tag": "ABX9TyMJ6fEWuQTYo5sxd9Ohsr5m",
      "include_colab_link": true
    },
    "kernelspec": {
      "name": "python3",
      "display_name": "Python 3"
    },
    "language_info": {
      "name": "python"
    }
  },
  "cells": [
    {
      "cell_type": "markdown",
      "metadata": {
        "id": "view-in-github",
        "colab_type": "text"
      },
      "source": [
        "<a href=\"https://colab.research.google.com/github/young-hwanlee/2020_intel_drone_competition/blob/main/Chapter10_Linear_Regression_Meeting_again.ipynb\" target=\"_parent\"><img src=\"https://colab.research.google.com/assets/colab-badge.svg\" alt=\"Open In Colab\"/></a>"
      ]
    },
    {
      "cell_type": "code",
      "execution_count": 1,
      "metadata": {
        "id": "B92LXwwMTdTj"
      },
      "outputs": [],
      "source": [
        "# 기본적인 import들\n",
        "# 이후 그래프 그리는 코드에는 중복으로 적지 않음.\n",
        "# 다른 곳으로 그래프 그리는 코드를 복사-붙이기 할 때는 \n",
        "# 이 import 코드와 함께 복사-붙이기 해야함\n",
        "import numpy as np\n",
        "import matplotlib.pyplot as plt\n",
        "import matplotlib as mpl\n",
        "from mpl_toolkits import mplot3d\n",
        "import matplotlib.font_manager as mfm\n",
        "import sympy\n",
        "\n",
        "# numpy 출력 형식 지정\n",
        "np.set_printoptions(precision=4, linewidth=150)\n",
        "\n",
        "# matplotlib 스타일 지정\n",
        "mpl.style.use('bmh')\n",
        "mpl.style.use('seaborn-whitegrid')\n",
        "style = plt.style.library['bmh']\n",
        "# 스타일 컬러를 쉽게 쓸 수 있도록 리스트 저장\n",
        "style_colors = [ c['color'] for c in style['axes.prop_cycle'] ]\n",
        "\n",
        "# 그림을 로컬 폴더에 저장하고 싶으면 True로 수정 \n",
        "file_print = False"
      ]
    },
    {
      "cell_type": "code",
      "source": [
        "# 데이터 파일 사용을 위한 github repo 복사\n",
        "# !주의! \n",
        "# 구글 colab 환경에서 실행하는 경우만 실행하세요.\n",
        "# 로컬환경에서는 실행하지 마세요.\n",
        "!git clone -l -s https://github.com/metamath1/noviceml.git noviceml"
      ],
      "metadata": {
        "id": "huVnRVwrwY4g",
        "colab": {
          "base_uri": "https://localhost:8080/"
        },
        "outputId": "5c87789f-3463-4703-d146-703a8924f125"
      },
      "execution_count": 2,
      "outputs": [
        {
          "output_type": "stream",
          "name": "stdout",
          "text": [
            "Cloning into 'noviceml'...\n",
            "warning: --local is ignored\n",
            "remote: Enumerating objects: 191, done.\u001b[K\n",
            "remote: Total 191 (delta 0), reused 0 (delta 0), pack-reused 191\u001b[K\n",
            "Receiving objects: 100% (191/191), 7.86 MiB | 10.63 MiB/s, done.\n",
            "Resolving deltas: 100% (90/90), done.\n"
          ]
        }
      ]
    },
    {
      "cell_type": "code",
      "source": [
        "# 구글 colab 환경일 경우 그래프에 한글 폰트 사용을 위한 설정\n",
        "path = 'noviceml/font/NanumBarunGothic.ttf'\n",
        "fontprop = mfm.FontProperties(fname=path, size=18)\n",
        "\n",
        "# 로컬 환경일 경우 그래프에 한글 폰트 사용을 위한 설정\n",
        "# https://financedata.github.io/posts/matplotlib-hangul-for-ubuntu-linux.html\n",
        "# 아래 코드의 주석 제거 후 경로를 유저 컴퓨터의 폰트 파일 경로로 수정하세요.\n",
        "# path = '/usr/share/fonts/truetype/nanum/NanumBarunGothic.ttf'\n",
        "# fontprop = mfm.FontProperties(fname=path, size=18)"
      ],
      "metadata": {
        "id": "e_avigjAwZZl"
      },
      "execution_count": 3,
      "outputs": []
    },
    {
      "cell_type": "markdown",
      "source": [
        "# **샘플 데이터**\n",
        "- 데이터 로드"
      ],
      "metadata": {
        "id": "NIR_kunayoPj"
      }
    },
    {
      "cell_type": "code",
      "source": [
        "# 데이터 로드\n",
        "D = np.load('noviceml/data_1d.npz')\n",
        "\n",
        "x = D['x']\n",
        "t = D['t']\n",
        "X_train = D['X_train']\n",
        "Y_train = D['Y_train']\n",
        "X_test = D['X_test']\n",
        "Y_test = D['Y_test']\n",
        "\n",
        "N = X_train.shape[0]"
      ],
      "metadata": {
        "id": "7VC3kalkwZun"
      },
      "execution_count": 4,
      "outputs": []
    },
    {
      "cell_type": "code",
      "source": [
        "D"
      ],
      "metadata": {
        "colab": {
          "base_uri": "https://localhost:8080/"
        },
        "id": "MFxGbObl6oyy",
        "outputId": "cd747825-c65c-4be7-9883-c15e9791880f"
      },
      "execution_count": 5,
      "outputs": [
        {
          "output_type": "execute_result",
          "data": {
            "text/plain": [
              "<numpy.lib.npyio.NpzFile at 0x7f7d97493730>"
            ]
          },
          "metadata": {},
          "execution_count": 5
        }
      ]
    },
    {
      "cell_type": "code",
      "source": [
        "N"
      ],
      "metadata": {
        "colab": {
          "base_uri": "https://localhost:8080/"
        },
        "id": "oTvSq8yX63xu",
        "outputId": "6e3a4000-9198-4688-b622-df11ba722f2d"
      },
      "execution_count": 6,
      "outputs": [
        {
          "output_type": "execute_result",
          "data": {
            "text/plain": [
              "10"
            ]
          },
          "metadata": {},
          "execution_count": 6
        }
      ]
    },
    {
      "cell_type": "code",
      "source": [
        "X_test.shape[0]"
      ],
      "metadata": {
        "colab": {
          "base_uri": "https://localhost:8080/"
        },
        "id": "dRx5UqGO7dwl",
        "outputId": "42129852-8bdd-4b15-99f1-5f29066f5e9d"
      },
      "execution_count": 7,
      "outputs": [
        {
          "output_type": "execute_result",
          "data": {
            "text/plain": [
              "100"
            ]
          },
          "metadata": {},
          "execution_count": 7
        }
      ]
    },
    {
      "cell_type": "markdown",
      "source": [
        "- **[그림 10-1]** 샘플 데이터"
      ],
      "metadata": {
        "id": "ItMxlnRMyvLT"
      }
    },
    {
      "cell_type": "code",
      "source": [
        "fig = plt.figure(figsize=(10, 7))\n",
        "ax = fig.add_subplot(1, 1, 1)\n",
        "ax.xaxis.set_tick_params(labelsize=18)\n",
        "ax.yaxis.set_tick_params(labelsize=18)\n",
        "ax.set_xlabel('$x$', fontsize=25)\n",
        "ax.set_ylabel('$y$', fontsize=25)\n",
        "ax.grid(False)\n",
        "\n",
        "ax.plot(x, t, '--', color='k')\n",
        "ax.plot(X_train, Y_train, 'ko', markersize=8, label='Train data')\n",
        "ax.plot(X_test, Y_test, 'o', markerfacecolor='w', markeredgecolor='gray', \n",
        "       markersize=8, label='Test data')\n",
        "\n",
        "# if file_print == True:\n",
        "#     fig.savefig(\"imgs/chap10/fig10-1.png\", dpi=300, bbox_inches='tight')\n",
        "#     fig.savefig(\"imgs/chap10/fig10-1.pdf\", format='pdf', bbox_inches='tight')\n",
        "\n",
        "plt.show()"
      ],
      "metadata": {
        "id": "BT6gVubowZzQ",
        "colab": {
          "base_uri": "https://localhost:8080/",
          "height": 460
        },
        "outputId": "c646ad34-de5b-4c1f-9195-a36c0377a2ec"
      },
      "execution_count": 8,
      "outputs": [
        {
          "output_type": "display_data",
          "data": {
            "text/plain": [
              "<Figure size 720x504 with 1 Axes>"
            ],
            "image/png": "[encoded data removed]"
          },
          "metadata": {}
        }
      ]
    },
    {
      "cell_type": "markdown",
      "source": [
        "- **[그림 10-2]** 학습 데이터와 테스트 데이터"
      ],
      "metadata": {
        "id": "SM0RT_Kfy2F7"
      }
    },
    {
      "cell_type": "code",
      "source": [
        "fig = plt.figure(figsize=(10, 7))\n",
        "ax = fig.add_subplot(1, 1, 1)\n",
        "ax.xaxis.set_tick_params(labelsize=18)\n",
        "ax.yaxis.set_tick_params(labelsize=18)\n",
        "ax.set_xlabel('$x$', fontsize=25)\n",
        "ax.set_ylabel('$y$', fontsize=25)\n",
        "ax.grid(False)\n",
        "\n",
        "ax.plot(X_train, Y_train, 'ko', markersize=8, label='Train data')\n",
        "ax.plot(X_test, Y_test, 'o', markerfacecolor='w', markeredgecolor='gray', \n",
        "       markersize=8, label='Test data')\n",
        "ax.legend(fontsize=18)\n",
        "\n",
        "# if file_print == True:\n",
        "#     fig.savefig(\"imgs/chap10/fig10-2.png\", dpi=300, bbox_inches='tight')\n",
        "#     fig.savefig(\"imgs/chap10/fig10-2.pdf\", format='pdf', bbox_inches='tight')\n",
        "\n",
        "plt.show()"
      ],
      "metadata": {
        "id": "5CwYHRwHwZ3f",
        "colab": {
          "base_uri": "https://localhost:8080/",
          "height": 460
        },
        "outputId": "bfa38705-d84c-43e7-d1a3-1aba2e760fe1"
      },
      "execution_count": 9,
      "outputs": [
        {
          "output_type": "display_data",
          "data": {
            "text/plain": [
              "<Figure size 720x504 with 1 Axes>"
            ],
            "image/png": "[encoded data removed]"
          },
          "metadata": {}
        }
      ]
    },
    {
      "cell_type": "markdown",
      "source": [
        "## **데이터 표현**"
      ],
      "metadata": {
        "id": "qiSamv52zJy1"
      }
    },
    {
      "cell_type": "code",
      "source": [
        "X_train"
      ],
      "metadata": {
        "id": "Z2B9MmRpwZ8J",
        "colab": {
          "base_uri": "https://localhost:8080/"
        },
        "outputId": "4fdb16c9-a367-4d92-bc97-dd89c5383a49"
      },
      "execution_count": 10,
      "outputs": [
        {
          "output_type": "execute_result",
          "data": {
            "text/plain": [
              "array([0.1   , 0.3667, 0.6333, 0.9   , 1.1667, 1.4333, 1.7   , 1.9667, 2.2333, 2.5   ])"
            ]
          },
          "metadata": {},
          "execution_count": 10
        }
      ]
    },
    {
      "cell_type": "code",
      "source": [
        "\n",
        "X_train.reshape(-1, 1)"
      ],
      "metadata": {
        "id": "o3dLivt4wZ_o",
        "colab": {
          "base_uri": "https://localhost:8080/"
        },
        "outputId": "5572eb0c-77b3-46c2-db96-222c058b82cb"
      },
      "execution_count": 11,
      "outputs": [
        {
          "output_type": "execute_result",
          "data": {
            "text/plain": [
              "array([[0.1   ],\n",
              "       [0.3667],\n",
              "       [0.6333],\n",
              "       [0.9   ],\n",
              "       [1.1667],\n",
              "       [1.4333],\n",
              "       [1.7   ],\n",
              "       [1.9667],\n",
              "       [2.2333],\n",
              "       [2.5   ]])"
            ]
          },
          "metadata": {},
          "execution_count": 11
        }
      ]
    },
    {
      "cell_type": "markdown",
      "source": [
        "# **모델 선택**"
      ],
      "metadata": {
        "id": "uaf6oV2YzRfi"
      }
    },
    {
      "cell_type": "markdown",
      "source": [
        "- 선형 모델"
      ],
      "metadata": {
        "id": "yoxiU3rFzYLg"
      }
    },
    {
      "cell_type": "code",
      "source": [
        "np.array([np.ones_like(X_train), X_train]).shape"
      ],
      "metadata": {
        "colab": {
          "base_uri": "https://localhost:8080/"
        },
        "id": "7EAFLvoiDrrp",
        "outputId": "4a0fa4d1-abf5-42bb-c7f2-2e30968d1a07"
      },
      "execution_count": 12,
      "outputs": [
        {
          "output_type": "execute_result",
          "data": {
            "text/plain": [
              "(2, 10)"
            ]
          },
          "metadata": {},
          "execution_count": 12
        }
      ]
    },
    {
      "cell_type": "code",
      "source": [
        "# 첫번째 요소에 1을 추가하고\n",
        "X = np.array([np.ones_like(X_train), X_train]).T\n",
        "print(\"첫 요소에 1을 추가하여 각각을 벡터로 만든 x_train : X\")\n",
        "print(X.shape)\n",
        "print(X)\n",
        "print('\\n')"
      ],
      "metadata": {
        "id": "zOAvmU0qwaFf",
        "colab": {
          "base_uri": "https://localhost:8080/"
        },
        "outputId": "ed5d7fc9-cdaa-445a-8242-ca7846067d1c"
      },
      "execution_count": 13,
      "outputs": [
        {
          "output_type": "stream",
          "name": "stdout",
          "text": [
            "첫 요소에 1을 추가하여 각각을 벡터로 만든 x_train : X\n",
            "(10, 2)\n",
            "[[1.     0.1   ]\n",
            " [1.     0.3667]\n",
            " [1.     0.6333]\n",
            " [1.     0.9   ]\n",
            " [1.     1.1667]\n",
            " [1.     1.4333]\n",
            " [1.     1.7   ]\n",
            " [1.     1.9667]\n",
            " [1.     2.2333]\n",
            " [1.     2.5   ]]\n",
            "\n",
            "\n"
          ]
        }
      ]
    },
    {
      "cell_type": "code",
      "source": [
        "# 결정해야하는 w 두 개\n",
        "w1 = 3.5\n",
        "w2 = -2.0\n",
        "w = np.array([w1, w2])\n",
        "\n",
        "#w와 내적을 하면 결과값 10개가 만들어 진다. w^T X\n",
        "print(\"w와 X의 내적\")\n",
        "print(np.dot(X, w.reshape(-1, 1)))"
      ],
      "metadata": {
        "id": "Y5mT0PwdwaJf",
        "colab": {
          "base_uri": "https://localhost:8080/"
        },
        "outputId": "fb41b70c-432a-4e1c-aa30-d395a84b89ad"
      },
      "execution_count": 14,
      "outputs": [
        {
          "output_type": "stream",
          "name": "stdout",
          "text": [
            "w와 X의 내적\n",
            "[[ 3.3   ]\n",
            " [ 2.7667]\n",
            " [ 2.2333]\n",
            " [ 1.7   ]\n",
            " [ 1.1667]\n",
            " [ 0.6333]\n",
            " [ 0.1   ]\n",
            " [-0.4333]\n",
            " [-0.9667]\n",
            " [-1.5   ]]\n"
          ]
        }
      ]
    },
    {
      "cell_type": "code",
      "source": [
        "w.shape"
      ],
      "metadata": {
        "colab": {
          "base_uri": "https://localhost:8080/"
        },
        "id": "F0crc56aFIDL",
        "outputId": "8acb95e6-9eaa-41a1-bf13-bc00bcd7bb43"
      },
      "execution_count": 15,
      "outputs": [
        {
          "output_type": "execute_result",
          "data": {
            "text/plain": [
              "(2,)"
            ]
          },
          "metadata": {},
          "execution_count": 15
        }
      ]
    },
    {
      "cell_type": "code",
      "source": [
        "w.reshape(-1, 1).shape"
      ],
      "metadata": {
        "colab": {
          "base_uri": "https://localhost:8080/"
        },
        "id": "R3aHAtQiFNU-",
        "outputId": "00cb494b-5183-46d0-c2b2-f8378221810f"
      },
      "execution_count": 16,
      "outputs": [
        {
          "output_type": "execute_result",
          "data": {
            "text/plain": [
              "(2, 1)"
            ]
          },
          "metadata": {},
          "execution_count": 16
        }
      ]
    },
    {
      "cell_type": "markdown",
      "source": [
        "- **[그림 10-3]** 직선 모델에 의해 임의로 결정된 선형회귀 결과"
      ],
      "metadata": {
        "id": "qsNwDyo0zcD9"
      }
    },
    {
      "cell_type": "code",
      "source": [
        "fig = plt.figure(figsize=(10, 7))\n",
        "ax = fig.add_subplot(1, 1, 1)\n",
        "ax.xaxis.set_tick_params(labelsize=18)\n",
        "ax.yaxis.set_tick_params(labelsize=18)\n",
        "ax.set_xlabel('$x$', fontsize=25)\n",
        "ax.set_ylabel('$y$', fontsize=25)\n",
        "ax.grid(False)\n",
        "\n",
        "ax.plot(X_train, Y_train, 'ko', markersize=8, label='Train data')\n",
        "ax.plot(x, t, '--', color='k')\n",
        "\n",
        "ax.plot(x, x*w[1] + w[0], color='k')\n",
        "ax.plot(X_train, np.dot(X, w.reshape(-1, 1)), 'o', markerfacecolor='w', markeredgecolor='gray', \n",
        "        markersize=8, label=r\"$\\mathbf{X}_{train}\\mathbf{w}$\")\n",
        "\n",
        "ax.legend(fontsize=20)\n",
        "\n",
        "# if file_print == True:\n",
        "#     fig.savefig(\"imgs/chap10/fig10-3.png\", dpi=300, bbox_inches='tight')\n",
        "#     fig.savefig(\"imgs/chap10/fig10-3.pdf\", format='pdf', bbox_inches='tight')\n",
        "\n",
        "plt.show()"
      ],
      "metadata": {
        "id": "3APwEr4QwaO4",
        "colab": {
          "base_uri": "https://localhost:8080/",
          "height": 460
        },
        "outputId": "57f76e25-c418-4937-fa73-0c9e96adc3ba"
      },
      "execution_count": 17,
      "outputs": [
        {
          "output_type": "display_data",
          "data": {
            "text/plain": [
              "<Figure size 720x504 with 1 Axes>"
            ],
            "image/png": "[encoded data removed]"
          },
          "metadata": {}
        }
      ]
    },
    {
      "cell_type": "markdown",
      "source": [
        "- 선형 모델의 오차\n",
        "- **[그림 10-4]** 직선 모델의 오차"
      ],
      "metadata": {
        "id": "lCo7g7wX0Ip7"
      }
    },
    {
      "cell_type": "code",
      "source": [
        "fig = plt.figure(figsize=(10, 7))\n",
        "ax = fig.add_subplot(1, 1, 1)\n",
        "ax.xaxis.set_tick_params(labelsize=18)\n",
        "ax.yaxis.set_tick_params(labelsize=18)\n",
        "ax.set_xlabel('$x$', fontsize=25)\n",
        "ax.set_ylabel('$y$', fontsize=25)\n",
        "ax.grid(False)\n",
        "\n",
        "Y_pred = np.dot(X, w.reshape(-1, 1)).reshape(-1)\n",
        "\n",
        "ax.plot(x, x*w[1] + w[0], color='k')\n",
        "ax.plot(X_train, Y_train, 'ko', markersize=8, label='Train data')\n",
        "ax.plot(X_train, Y_pred, 'o', markerfacecolor='w', markeredgecolor='gray', \n",
        "        markersize=8, label=r\"Prediction\")\n",
        "ax.plot([X_train, X_train], [Y_pred, Y_train], '--', color='k')\n",
        "ax.legend(fontsize=20)\n",
        "\n",
        "# if file_print == True:\n",
        "#     fig.savefig(\"imgs/chap10/fig10-4.png\", dpi=300, bbox_inches='tight')\n",
        "#     fig.savefig(\"imgs/chap10/fig10-4.pdf\", format='pdf', bbox_inches='tight')\n",
        "\n",
        "plt.show()"
      ],
      "metadata": {
        "id": "cKnMlahvwaS5",
        "colab": {
          "base_uri": "https://localhost:8080/",
          "height": 460
        },
        "outputId": "677476bf-40db-4bc5-c495-f1c9f7f4f7dd"
      },
      "execution_count": 18,
      "outputs": [
        {
          "output_type": "display_data",
          "data": {
            "text/plain": [
              "<Figure size 720x504 with 1 Axes>"
            ],
            "image/png": "[encoded data removed]"
          },
          "metadata": {}
        }
      ]
    },
    {
      "cell_type": "code",
      "source": [
        "# 오차 계산\n",
        "0.5*(((Y_train - Y_pred)**2).sum()) "
      ],
      "metadata": {
        "id": "c58MwVB5waXx",
        "colab": {
          "base_uri": "https://localhost:8080/"
        },
        "outputId": "bf6dc564-bb25-45ba-81ed-1ff8220200e3"
      },
      "execution_count": 19,
      "outputs": [
        {
          "output_type": "execute_result",
          "data": {
            "text/plain": [
              "6.171744429866503"
            ]
          },
          "metadata": {},
          "execution_count": 19
        }
      ]
    },
    {
      "cell_type": "markdown",
      "source": [
        "## **기저 함수 이용하기**\n",
        "- **[그림 10-5]** 곡선 모델의 오차"
      ],
      "metadata": {
        "id": "PNT3amsx0XTx"
      }
    },
    {
      "cell_type": "code",
      "source": [
        "fig = plt.figure(figsize=(10, 7))\n",
        "ax = fig.add_subplot(1, 1, 1)\n",
        "ax.xaxis.set_tick_params(labelsize=18)\n",
        "ax.yaxis.set_tick_params(labelsize=18)\n",
        "ax.set_xlabel('$x$', fontsize=25)\n",
        "ax.set_ylabel('$y$', fontsize=25)\n",
        "ax.grid(False)\n",
        "\n",
        "coef = (3.5, -5.0,  3.0, -0.7)\n",
        "y = coef[0] + coef[1]*x + coef[2]*x**2 + coef[3]*x**3\n",
        "Y_pred = coef[0] + coef[1]*X_train + coef[2]*X_train**2 + coef[3]*X_train**3\n",
        "\n",
        "ax.plot(x, y, color='k')\n",
        "ax.plot(X_train, Y_train, 'o',  markersize=8 , color='k', label=r'Train data')\n",
        "ax.plot(X_train, Y_pred,  'o', markerfacecolor='w', markeredgecolor='gray', \n",
        "        markersize=8,  label=r'Prediction')\n",
        "ax.plot([X_train, X_train], [Y_pred, Y_train], '--', color='k')\n",
        "ax.legend(fontsize=20)\n",
        "\n",
        "# if file_print == True:\n",
        "#     fig.savefig(\"imgs/chap10/fig10-5.png\", dpi=300, bbox_inches='tight')\n",
        "#     fig.savefig(\"imgs/chap10/fig10-5.pdf\", format='pdf', bbox_inches='tight')\n",
        "\n",
        "plt.show()"
      ],
      "metadata": {
        "id": "7JmxmTHc0D22",
        "colab": {
          "base_uri": "https://localhost:8080/",
          "height": 460
        },
        "outputId": "e236023f-ad00-4168-ff80-733cc4ef1b9b"
      },
      "execution_count": 20,
      "outputs": [
        {
          "output_type": "display_data",
          "data": {
            "text/plain": [
              "<Figure size 720x504 with 1 Axes>"
            ],
            "image/png": "[encoded data removed]"
          },
          "metadata": {}
        }
      ]
    },
    {
      "cell_type": "code",
      "source": [
        "# 오차 계산\n",
        "0.5*(((Y_train - Y_pred)**2).sum()) "
      ],
      "metadata": {
        "id": "DnAdIPyG0D6n",
        "colab": {
          "base_uri": "https://localhost:8080/"
        },
        "outputId": "278fe59a-ccb5-454b-df36-b27573a1f2ad"
      },
      "execution_count": 21,
      "outputs": [
        {
          "output_type": "execute_result",
          "data": {
            "text/plain": [
              "4.965242925784168"
            ]
          },
          "metadata": {},
          "execution_count": 21
        }
      ]
    },
    {
      "cell_type": "markdown",
      "source": [
        "- 넘파이 피팅 vs 사이킷런 피팅"
      ],
      "metadata": {
        "id": "ku-Bi3kT0uIB"
      }
    },
    {
      "cell_type": "markdown",
      "source": [
        "- **[그림 10-6]** 넘파이 vs 사이킷런 선형회귀 결과"
      ],
      "metadata": {
        "id": "FFgShylp06Vw"
      }
    },
    {
      "cell_type": "code",
      "source": [
        "######################################################\n",
        "# 본격적으로 회귀를 하기 전에 기존 라이브러리를 이용하여 \n",
        "# 결과를 만들고 우리 알고리즘의 결과와 비교해보자.\n",
        "######################################################\n",
        "# P차 다항식\n",
        "# w가 5차원 벡터, 각 4차 계수, 3차 계수, 2차 계수, 1차 계수, 0차 계수(상수) \n",
        "P = 5\n",
        "\n",
        "########################################################################\n",
        "## 넘파이 라이브러리를 사용해서 간단하게 구할 수 있다.\n",
        "########################################################################\n",
        "# 1차 다항식\n",
        "z_lin    = np.polyfit(X_train, Y_train, 1) \n",
        "\n",
        "# P차 다항식\n",
        "z_nonlin = np.polyfit(X_train, Y_train, P)\n",
        "\n",
        "y_lin    = np.poly1d(z_lin)\n",
        "y_nonlin = np.poly1d(z_nonlin)"
      ],
      "metadata": {
        "id": "59BJj_apZEoG"
      },
      "execution_count": 22,
      "outputs": []
    },
    {
      "cell_type": "code",
      "source": [
        "print(z_lin)\n",
        "print(z_nonlin)"
      ],
      "metadata": {
        "colab": {
          "base_uri": "https://localhost:8080/"
        },
        "id": "cMxkSrRLZPuF",
        "outputId": "2a1f4386-a4c7-4a16-def2-3acbf9eb6b9a"
      },
      "execution_count": 23,
      "outputs": [
        {
          "output_type": "stream",
          "name": "stdout",
          "text": [
            "[-1.2081  2.7696]\n",
            "[  5.4386 -35.6486  82.7845 -80.0685  27.0562   0.7995]\n"
          ]
        }
      ]
    },
    {
      "cell_type": "code",
      "source": [
        "########################################################################\n",
        "## sklearn 라이브러리를 사용해서 간단(?)하게 구할 수 있다.\n",
        "########################################################################\n",
        "# for sklearn\n",
        "from sklearn.linear_model import LinearRegression\n",
        "from sklearn.preprocessing import PolynomialFeatures\n",
        "from sklearn.pipeline import make_pipeline\n",
        "\n",
        "# 1차 다항식\n",
        "model = LinearRegression(fit_intercept=True)\n",
        "model.fit(X_train[:, np.newaxis], Y_train)\n",
        "y_sk_lin = model.predict(x[:, np.newaxis])\n",
        "\n",
        "# P차 다항식\n",
        "poly_model = make_pipeline(PolynomialFeatures(P), LinearRegression())\n",
        "poly_model.fit(X_train[:, np.newaxis], Y_train)\n",
        "y_sk_nonlin = poly_model.predict(x[:, np.newaxis])"
      ],
      "metadata": {
        "id": "nViwsvr8ZHgJ"
      },
      "execution_count": 24,
      "outputs": []
    },
    {
      "cell_type": "code",
      "source": [
        "fig, (ax1, ax2) = plt.subplots(1, 2, sharex=True, sharey=True)\n",
        "fig.set_size_inches((15, 6))\n",
        "\n",
        "ax1.xaxis.set_tick_params(labelsize=18)\n",
        "ax1.yaxis.set_tick_params(labelsize=18)\n",
        "ax1.set_xlabel('$x$', fontsize=25)\n",
        "ax1.set_ylabel('$y$', fontsize=25)\n",
        "ax1.grid(False)\n",
        "ax1.plot(X_train, Y_train, 'o',  markersize=8, color='k', label=r\"Train data\")\n",
        "ax1.plot(x, y_lin(x), '--', color='k', label=r\"by numpy, linear\")\n",
        "ax1.plot(x, y_nonlin(x), color='k', label=r\"by numpy, non-linear\")\n",
        "ax1.legend(fontsize=15)\n",
        "ax1.set_title('numpy linear regression')\n",
        "\n",
        "ax2.xaxis.set_tick_params(labelsize=18)\n",
        "ax2.yaxis.set_tick_params(labelsize=18)\n",
        "ax2.set_xlabel('$x$', fontsize=25)\n",
        "ax2.set_ylabel('$y$', fontsize=25)\n",
        "ax2.grid(False)\n",
        "ax2.plot(X_train, Y_train, 'o',  markersize=8, color='k', label=r\"Train data\")\n",
        "ax2.plot(x, y_sk_lin, '--', color='k', label=r\"by sklearn, linear\")\n",
        "ax2.plot(x, y_sk_nonlin, color='k', label=r\"by sklearn, non-linear\")\n",
        "ax2.legend(fontsize=15)\n",
        "ax2.set_title('sklearn linear regression')\n",
        "\n",
        "# if file_print == True:\n",
        "#     fig.savefig(\"imgs/chap10/fig10-6.png\", dpi=300, bbox_inches='tight')\n",
        "#     fig.savefig(\"imgs/chap10/fig10-6.pdf\", format='pdf', bbox_inches='tight')\n",
        "\n",
        "plt.show()\n",
        "\n",
        "poly_model.steps[-1][1].coef_[0] = poly_model.steps[-1][1].intercept_ \n",
        "print(\"numpy coef.   : {} \".format(z_nonlin[::-1]))\n",
        "print(\"sklearn coef. : {} \".format( poly_model.steps[-1][1].coef_ ))"
      ],
      "metadata": {
        "id": "UQKP2WkD0EG8",
        "colab": {
          "base_uri": "https://localhost:8080/",
          "height": 458
        },
        "outputId": "85918f67-0b6f-48a5-e05f-a12c5e25d019"
      },
      "execution_count": 25,
      "outputs": [
        {
          "output_type": "display_data",
          "data": {
            "text/plain": [
              "<Figure size 1080x432 with 2 Axes>"
            ],
            "image/png": "[encoded data removed]"
          },
          "metadata": {}
        },
        {
          "output_type": "stream",
          "name": "stdout",
          "text": [
            "numpy coef.   : [  0.7995  27.0562 -80.0685  82.7845 -35.6486   5.4386] \n",
            "sklearn coef. : [  0.7995  27.0562 -80.0685  82.7845 -35.6486   5.4386] \n"
          ]
        }
      ]
    },
    {
      "cell_type": "markdown",
      "source": [
        "# **경사하강법을 이용한 선형회귀**\n",
        "- 목적 함수와 경사도 벡터"
      ],
      "metadata": {
        "id": "upCGjIqi1IMg"
      }
    },
    {
      "cell_type": "code",
      "source": [
        "X_train"
      ],
      "metadata": {
        "colab": {
          "base_uri": "https://localhost:8080/"
        },
        "id": "gKZXQMc7eqV7",
        "outputId": "eaeb81b1-612e-42dd-b9a5-c989d5365203"
      },
      "execution_count": 26,
      "outputs": [
        {
          "output_type": "execute_result",
          "data": {
            "text/plain": [
              "array([0.1   , 0.3667, 0.6333, 0.9   , 1.1667, 1.4333, 1.7   , 1.9667, 2.2333, 2.5   ])"
            ]
          },
          "metadata": {},
          "execution_count": 26
        }
      ]
    },
    {
      "cell_type": "code",
      "source": [
        "print(P)\n",
        "X = np.array([ X_train**i for i in range(P + 1) ])  \n",
        "print(X)"
      ],
      "metadata": {
        "colab": {
          "base_uri": "https://localhost:8080/"
        },
        "id": "KAdeydwceR6O",
        "outputId": "f8ec4186-07a5-441b-f0a1-e475945dcc03"
      },
      "execution_count": 27,
      "outputs": [
        {
          "output_type": "stream",
          "name": "stdout",
          "text": [
            "5\n",
            "[[1.0000e+00 1.0000e+00 1.0000e+00 1.0000e+00 1.0000e+00 1.0000e+00 1.0000e+00 1.0000e+00 1.0000e+00 1.0000e+00]\n",
            " [1.0000e-01 3.6667e-01 6.3333e-01 9.0000e-01 1.1667e+00 1.4333e+00 1.7000e+00 1.9667e+00 2.2333e+00 2.5000e+00]\n",
            " [1.0000e-02 1.3444e-01 4.0111e-01 8.1000e-01 1.3611e+00 2.0544e+00 2.8900e+00 3.8678e+00 4.9878e+00 6.2500e+00]\n",
            " [1.0000e-03 4.9296e-02 2.5404e-01 7.2900e-01 1.5880e+00 2.9447e+00 4.9130e+00 7.6066e+00 1.1139e+01 1.5625e+01]\n",
            " [1.0000e-04 1.8075e-02 1.6089e-01 6.5610e-01 1.8526e+00 4.2207e+00 8.3521e+00 1.4960e+01 2.4878e+01 3.9062e+01]\n",
            " [1.0000e-05 6.6276e-03 1.0190e-01 5.9049e-01 2.1614e+00 6.0497e+00 1.4199e+01 2.9421e+01 5.5561e+01 9.7656e+01]]\n"
          ]
        }
      ]
    },
    {
      "cell_type": "code",
      "source": [
        "i = 1\n",
        "while i < 10000:\n",
        "    np.random.seed(i + 1)\n",
        "    w = np.random.rand(P + 1)\n",
        "    if round(w[0], 4) == 0.6012:\n",
        "        print(i + 1)\n",
        "        break\n",
        "    i += 1"
      ],
      "metadata": {
        "colab": {
          "base_uri": "https://localhost:8080/"
        },
        "id": "kY-kXQM2gXhM",
        "outputId": "ec87482b-67b9-4058-e6cb-bff7c9613ffb"
      },
      "execution_count": 28,
      "outputs": [
        {
          "output_type": "stream",
          "name": "stdout",
          "text": [
            "4595\n"
          ]
        }
      ]
    },
    {
      "cell_type": "code",
      "source": [
        "np.random.seed(4595)\n",
        "w = np.random.rand(P + 1)\n",
        "print(w)\n",
        "\n",
        "Y_pred = (w.reshape(-1, 1) * X).sum(axis=0)\n",
        "print(Y_pred)\n",
        "\n",
        "# sum 없이 하려면?\n",
        "print(np.dot(X.T, w))"
      ],
      "metadata": {
        "id": "TftWdinW0EKo",
        "colab": {
          "base_uri": "https://localhost:8080/"
        },
        "outputId": "8d4612a4-06ff-4d81-8720-16ac01c57270"
      },
      "execution_count": 29,
      "outputs": [
        {
          "output_type": "stream",
          "name": "stdout",
          "text": [
            "[0.6012 0.2101 0.6699 0.6515 0.39   0.6089]\n",
            "[ 0.6296  0.8115  1.2932  2.4233  4.8313  9.5271 17.9986 32.311  55.2048 90.1947]\n",
            "[ 0.6296  0.8115  1.2932  2.4233  4.8313  9.5271 17.9986 32.311  55.2048 90.1947]\n"
          ]
        }
      ]
    },
    {
      "cell_type": "code",
      "source": [
        "def J(w, P, x, y):\n",
        "    \"\"\"\n",
        "    Error function\n",
        "    J(w)= (1/2) * sum_{n=1}^{N} {y(x_n, w) - t_n}^2\n",
        "    y(x_n, w) = w_0*x^0 + w_1*x^1 + w_2*x^2 + ... + w_M*x^M\n",
        "    \"\"\"\n",
        "    X = np.array([ x**i for i in range(P + 1) ])  \n",
        "    y_pred = np.dot(X.T, w)     # y_pred = (w.reshape(-1, 1) * X).sum(axis=0)\n",
        "    \n",
        "    return 0.5*( ((y - y_pred)**2).sum() )"
      ],
      "metadata": {
        "id": "vdcPiSbe1PKs"
      },
      "execution_count": 30,
      "outputs": []
    },
    {
      "cell_type": "code",
      "source": [
        "# print(\"{:.6f}\".format(J(np.random.rand(4), 3, X_train, Y_train)))\n",
        "# print(\"{:.6f}\".format(J(np.random.rand(6), 5, X_train, Y_train)))\n",
        "\n",
        "np.random.seed(15)\n",
        "a = 3\n",
        "b = 5\n",
        "print(\"{:.6f}\".format(J(np.random.rand(a + 1), a, X_train, Y_train)))\n",
        "print(\"{:.6f}\".format(J(np.random.rand(b + 1), b, X_train, Y_train)))"
      ],
      "metadata": {
        "id": "cEkKnGKv1PN-",
        "colab": {
          "base_uri": "https://localhost:8080/"
        },
        "outputId": "1f799735-b07c-486a-be9d-e1dd4558bda9"
      },
      "execution_count": 31,
      "outputs": [
        {
          "output_type": "stream",
          "name": "stdout",
          "text": [
            "59.894985\n",
            "1085.837031\n"
          ]
        }
      ]
    },
    {
      "cell_type": "code",
      "source": [
        "def grad_anal(w, P, x, y):\n",
        "    \"\"\"\n",
        "    This function computes the analytic gradient of the objective function\n",
        "    x, t : data for error function eval.\n",
        "    \"\"\"\n",
        "    N = x.shape[0]\n",
        "    PI = np.hstack( np.array( [np.power(x.reshape(N, 1), p) for p in range(P + 1)] ) )\n",
        "    \n",
        "    # 위 식을 그대로 코딩\n",
        "    # g_  = np.dot( w.T, np.dot(PI.T, PI) ) - np.dot(y.T, PI)\n",
        "    \n",
        "    # 식을 정리해서 np.dot 2번으로...\n",
        "    g = np.dot( np.dot(w.T, PI.T) - y.T , PI)\n",
        "    \n",
        "    return g"
      ],
      "metadata": {
        "id": "V9fDaNPX1PRD"
      },
      "execution_count": 32,
      "outputs": []
    },
    {
      "cell_type": "markdown",
      "source": [
        "- 경사하강법을 이용한 선형회귀"
      ],
      "metadata": {
        "id": "eViwz5vL1gG1"
      }
    },
    {
      "cell_type": "code",
      "source": [
        "from scipy import optimize\n",
        "\n",
        "np.random.seed(0)\n",
        "\n",
        "# P를 1, 3, 6, 12에 대해서 한번씩 피팅\n",
        "Ps = [1, 3, 6, 12]\n",
        "\n",
        "# 피팅결과 구해진 파라미터를 W에 저장\n",
        "W = []\n",
        "\n",
        "# 학습데이터를 넘기면서 fitting\n",
        "for P in Ps:\n",
        "    w = np.random.uniform(-1, 1, P + 1)\n",
        "    \n",
        "    ######################################################################\n",
        "    # scipy.optimize.minimize 사용하는 경우\n",
        "    ret = optimize.minimize(J, w,  args=(P, X_train, Y_train), \n",
        "                            jac=grad_anal, method='SLSQP')\n",
        "    W.append(ret.x)\n",
        "    print(ret)\n",
        "    ######################################################################\n",
        "    \n",
        "    print('\\n')"
      ],
      "metadata": {
        "id": "DUC-fPNS1PUL",
        "colab": {
          "base_uri": "https://localhost:8080/"
        },
        "outputId": "10f48b84-d886-4455-e165-2059d5cc55ac"
      },
      "execution_count": 33,
      "outputs": [
        {
          "output_type": "stream",
          "name": "stdout",
          "text": [
            "     fun: 3.885207834041835\n",
            "     jac: array([1.4433e-15, 2.5535e-15])\n",
            " message: 'Optimization terminated successfully'\n",
            "    nfev: 6\n",
            "     nit: 3\n",
            "    njev: 3\n",
            "  status: 0\n",
            " success: True\n",
            "       x: array([ 2.7696, -1.2081])\n",
            "\n",
            "\n",
            "     fun: 3.4455063925535767\n",
            "     jac: array([ 1.0348e-04, -1.3520e-04, -8.0562e-05,  5.3705e-05])\n",
            " message: 'Optimization terminated successfully'\n",
            "    nfev: 16\n",
            "     nit: 12\n",
            "    njev: 12\n",
            "  status: 0\n",
            " success: True\n",
            "       x: array([ 3.7515, -4.9209,  3.0384, -0.6851])\n",
            "\n",
            "\n",
            "     fun: 0.009816210285868793\n",
            "     jac: array([ 2.5636e-06, -4.1190e-08, -1.4329e-05, -7.6739e-06,  4.6361e-06,  6.7848e-06, -2.6317e-06])\n",
            " message: 'Optimization terminated successfully'\n",
            "    nfev: 45\n",
            "     nit: 36\n",
            "    njev: 36\n",
            "  status: 0\n",
            " success: True\n",
            "       x: array([  -2.7948,   76.3267, -256.8238,  345.8317, -222.4441,   68.3042,   -8.0596])\n",
            "\n",
            "\n",
            "     fun: 0.002234583085477833\n",
            "     jac: array([-2.7093e-05,  6.3770e-05,  4.5506e-05,  6.3097e-06,  7.1431e-05,  1.7677e-04,  3.0429e-04,  5.4298e-04,  1.0211e-03,  1.7671e-03,  2.5619e-03,\n",
            "        2.6307e-03, -1.6340e-03])\n",
            " message: 'Optimization terminated successfully'\n",
            "    nfev: 61\n",
            "     nit: 36\n",
            "    njev: 36\n",
            "  status: 0\n",
            " success: True\n",
            "       x: array([ -0.5868,  40.3157, -86.223 ,   8.584 ,  58.0692,  20.1646, -33.712 , -34.5344,  16.8644,  35.359 , -33.5996,  10.8848,  -1.247 ])\n",
            "\n",
            "\n"
          ]
        }
      ]
    },
    {
      "cell_type": "markdown",
      "source": [
        "- **[그림 10-8]** 기저함수를 사용한 선형회귀 결과"
      ],
      "metadata": {
        "id": "ubIx5msq1sIM"
      }
    },
    {
      "cell_type": "code",
      "source": [
        "import pandas as pd\n",
        "from IPython.display import display\n",
        "\n",
        "fig, ax = plt.subplots(2, 2, sharex='all', sharey='all')\n",
        "fig.set_size_inches((16, 13))\n",
        "\n",
        "j = 0\n",
        "ax[0, 0].set_ylim(-1, 5)\n",
        "\n",
        "for P in Ps:\n",
        "    p, q = divmod(j, 2)\n",
        "    X = np.array([ x**i for i in range(P + 1) ])\n",
        "    y = (W[j].reshape(-1, 1) * X).sum(axis=0)\n",
        "    \n",
        "    ax[p, q].xaxis.set_tick_params(labelsize=18)\n",
        "    ax[p, q].yaxis.set_tick_params(labelsize=18)\n",
        "    ax[p, q].set_xlabel('$x$', fontsize=25)\n",
        "    ax[p, q].set_ylabel('$y$', fontsize=25)\n",
        "    ax[p, q].grid(False)\n",
        "\n",
        "    ax[p, q].plot(X_train, Y_train, 'o',  markersize=8 , color='k')\n",
        "    ax[p, q].plot(x, t, '--', color='k', label=\"True\")\n",
        "    ax[p, q].plot(x, y, color='k', label=\"$P=${}\".format(P))\n",
        "    ax[p, q].legend(loc='upper right', fontsize=20)\n",
        "\n",
        "    j += 1\n",
        "\n",
        "# Hide x labels and tick labels for top plots and y ticks for right plots.\n",
        "for ax_ in ax.flat:\n",
        "    ax_.label_outer()\n",
        "    \n",
        "plt.subplots_adjust(hspace=0.05, wspace=0.05)\n",
        "\n",
        "# if file_print == True:\n",
        "#     fig.savefig(\"imgs/chap10/fig10-8.png\", dpi=300, bbox_inches='tight')\n",
        "#     fig.savefig(\"imgs/chap10/fig10-8.pdf\", format='pdf', bbox_inches='tight')\n",
        "\n",
        "plt.show()\n",
        "\n",
        "# 회귀계수를 모아서 테이블 형태로 출력\n",
        "A = np.full( (Ps[-1] + 1, len(Ps)), np.nan )\n",
        "for i in range(len(W)):\n",
        "    A[ 0 : W[i].shape[0], i ] = W[i]\n",
        "\n",
        "df = pd.DataFrame(data=A,  columns=['P={}'.format(i) for i in Ps])\n",
        "display(df)     # OR print(df.to_html()) or display(HTML(df.to_html()))  "
      ],
      "metadata": {
        "id": "jEtBEfYe1mXo",
        "colab": {
          "base_uri": "https://localhost:8080/",
          "height": 1000
        },
        "outputId": "6c900ac9-797a-4ebf-816b-5de5a0ff2362"
      },
      "execution_count": 34,
      "outputs": [
        {
          "output_type": "display_data",
          "data": {
            "text/plain": [
              "<Figure size 1152x936 with 4 Axes>"
            ],
            "image/png": "[encoded data removed]"
          },
          "metadata": {}
        },
        {
          "output_type": "display_data",
          "data": {
            "text/plain": [
              "         P=1       P=3         P=6       P=12\n",
              "0   2.769644  3.751458   -2.794784  -0.586750\n",
              "1  -1.208138 -4.920928   76.326667  40.315683\n",
              "2        NaN  3.038434 -256.823759 -86.222961\n",
              "3        NaN -0.685101  345.831691   8.584005\n",
              "4        NaN       NaN -222.444149  58.069182\n",
              "5        NaN       NaN   68.304217  20.164601\n",
              "6        NaN       NaN   -8.059628 -33.711999\n",
              "7        NaN       NaN         NaN -34.534380\n",
              "8        NaN       NaN         NaN  16.864389\n",
              "9        NaN       NaN         NaN  35.359009\n",
              "10       NaN       NaN         NaN -33.599558\n",
              "11       NaN       NaN         NaN  10.884770\n",
              "12       NaN       NaN         NaN  -1.246953"
            ],
            "text/html": [
              "\n",
              "  <div id=\"df-a0f48024-8e2c-4e8e-9504-e5eaa4df929a\">\n",
              "    <div class=\"colab-df-container\">\n",
              "      <div>\n",
              "<style scoped>\n",
              "    .dataframe tbody tr th:only-of-type {\n",
              "        vertical-align: middle;\n",
              "    }\n",
              "\n",
              "    .dataframe tbody tr th {\n",
              "        vertical-align: top;\n",
              "    }\n",
              "\n",
              "    .dataframe thead th {\n",
              "        text-align: right;\n",
              "    }\n",
              "</style>\n",
              "<table border=\"1\" class=\"dataframe\">\n",
              "  <thead>\n",
              "    <tr style=\"text-align: right;\">\n",
              "      <th></th>\n",
              "      <th>P=1</th>\n",
              "      <th>P=3</th>\n",
              "      <th>P=6</th>\n",
              "      <th>P=12</th>\n",
              "    </tr>\n",
              "  </thead>\n",
              "  <tbody>\n",
              "    <tr>\n",
              "      <th>0</th>\n",
              "      <td>2.769644</td>\n",
              "      <td>3.751458</td>\n",
              "      <td>-2.794784</td>\n",
              "      <td>-0.586750</td>\n",
              "    </tr>\n",
              "    <tr>\n",
              "      <th>1</th>\n",
              "      <td>-1.208138</td>\n",
              "      <td>-4.920928</td>\n",
              "      <td>76.326667</td>\n",
              "      <td>40.315683</td>\n",
              "    </tr>\n",
              "    <tr>\n",
              "      <th>2</th>\n",
              "      <td>NaN</td>\n",
              "      <td>3.038434</td>\n",
              "      <td>-256.823759</td>\n",
              "      <td>-86.222961</td>\n",
              "    </tr>\n",
              "    <tr>\n",
              "      <th>3</th>\n",
              "      <td>NaN</td>\n",
              "      <td>-0.685101</td>\n",
              "      <td>345.831691</td>\n",
              "      <td>8.584005</td>\n",
              "    </tr>\n",
              "    <tr>\n",
              "      <th>4</th>\n",
              "      <td>NaN</td>\n",
              "      <td>NaN</td>\n",
              "      <td>-222.444149</td>\n",
              "      <td>58.069182</td>\n",
              "    </tr>\n",
              "    <tr>\n",
              "      <th>5</th>\n",
              "      <td>NaN</td>\n",
              "      <td>NaN</td>\n",
              "      <td>68.304217</td>\n",
              "      <td>20.164601</td>\n",
              "    </tr>\n",
              "    <tr>\n",
              "      <th>6</th>\n",
              "      <td>NaN</td>\n",
              "      <td>NaN</td>\n",
              "      <td>-8.059628</td>\n",
              "      <td>-33.711999</td>\n",
              "    </tr>\n",
              "    <tr>\n",
              "      <th>7</th>\n",
              "      <td>NaN</td>\n",
              "      <td>NaN</td>\n",
              "      <td>NaN</td>\n",
              "      <td>-34.534380</td>\n",
              "    </tr>\n",
              "    <tr>\n",
              "      <th>8</th>\n",
              "      <td>NaN</td>\n",
              "      <td>NaN</td>\n",
              "      <td>NaN</td>\n",
              "      <td>16.864389</td>\n",
              "    </tr>\n",
              "    <tr>\n",
              "      <th>9</th>\n",
              "      <td>NaN</td>\n",
              "      <td>NaN</td>\n",
              "      <td>NaN</td>\n",
              "      <td>35.359009</td>\n",
              "    </tr>\n",
              "    <tr>\n",
              "      <th>10</th>\n",
              "      <td>NaN</td>\n",
              "      <td>NaN</td>\n",
              "      <td>NaN</td>\n",
              "      <td>-33.599558</td>\n",
              "    </tr>\n",
              "    <tr>\n",
              "      <th>11</th>\n",
              "      <td>NaN</td>\n",
              "      <td>NaN</td>\n",
              "      <td>NaN</td>\n",
              "      <td>10.884770</td>\n",
              "    </tr>\n",
              "    <tr>\n",
              "      <th>12</th>\n",
              "      <td>NaN</td>\n",
              "      <td>NaN</td>\n",
              "      <td>NaN</td>\n",
              "      <td>-1.246953</td>\n",
              "    </tr>\n",
              "  </tbody>\n",
              "</table>\n",
              "</div>\n",
              "      <button class=\"colab-df-convert\" onclick=\"convertToInteractive('df-a0f48024-8e2c-4e8e-9504-e5eaa4df929a')\"\n",
              "              title=\"Convert this dataframe to an interactive table.\"\n",
              "              style=\"display:none;\">\n",
              "        \n",
              "  <svg xmlns=\"http://www.w3.org/2000/svg\" height=\"24px\"viewBox=\"0 0 24 24\"\n",
              "       width=\"24px\">\n",
              "    <path d=\"M0 0h24v24H0V0z\" fill=\"none\"/>\n",
              "    <path d=\"M18.56 5.44l.94 2.06.94-2.06 2.06-.94-2.06-.94-.94-2.06-.94 2.06-2.06.94zm-11 1L8.5 8.5l.94-2.06 2.06-.94-2.06-.94L8.5 2.5l-.94 2.06-2.06.94zm10 10l.94 2.06.94-2.06 2.06-.94-2.06-.94-.94-2.06-.94 2.06-2.06.94z\"/><path d=\"M17.41 7.96l-1.37-1.37c-.4-.4-.92-.59-1.43-.59-.52 0-1.04.2-1.43.59L10.3 9.45l-7.72 7.72c-.78.78-.78 2.05 0 2.83L4 21.41c.39.39.9.59 1.41.59.51 0 1.02-.2 1.41-.59l7.78-7.78 2.81-2.81c.8-.78.8-2.07 0-2.86zM5.41 20L4 18.59l7.72-7.72 1.47 1.35L5.41 20z\"/>\n",
              "  </svg>\n",
              "      </button>\n",
              "      \n",
              "  <style>\n",
              "    .colab-df-container {\n",
              "      display:flex;\n",
              "      flex-wrap:wrap;\n",
              "      gap: 12px;\n",
              "    }\n",
              "\n",
              "    .colab-df-convert {\n",
              "      background-color: #E8F0FE;\n",
              "      border: none;\n",
              "      border-radius: 50%;\n",
              "      cursor: pointer;\n",
              "      display: none;\n",
              "      fill: #1967D2;\n",
              "      height: 32px;\n",
              "      padding: 0 0 0 0;\n",
              "      width: 32px;\n",
              "    }\n",
              "\n",
              "    .colab-df-convert:hover {\n",
              "      background-color: #E2EBFA;\n",
              "      box-shadow: 0px 1px 2px rgba(60, 64, 67, 0.3), 0px 1px 3px 1px rgba(60, 64, 67, 0.15);\n",
              "      fill: #174EA6;\n",
              "    }\n",
              "\n",
              "    [theme=dark] .colab-df-convert {\n",
              "      background-color: #3B4455;\n",
              "      fill: #D2E3FC;\n",
              "    }\n",
              "\n",
              "    [theme=dark] .colab-df-convert:hover {\n",
              "      background-color: #434B5C;\n",
              "      box-shadow: 0px 1px 3px 1px rgba(0, 0, 0, 0.15);\n",
              "      filter: drop-shadow(0px 1px 2px rgba(0, 0, 0, 0.3));\n",
              "      fill: #FFFFFF;\n",
              "    }\n",
              "  </style>\n",
              "\n",
              "      <script>\n",
              "        const buttonEl =\n",
              "          document.querySelector('#df-a0f48024-8e2c-4e8e-9504-e5eaa4df929a button.colab-df-convert');\n",
              "        buttonEl.style.display =\n",
              "          google.colab.kernel.accessAllowed ? 'block' : 'none';\n",
              "\n",
              "        async function convertToInteractive(key) {\n",
              "          const element = document.querySelector('#df-a0f48024-8e2c-4e8e-9504-e5eaa4df929a');\n",
              "          const dataTable =\n",
              "            await google.colab.kernel.invokeFunction('convertToInteractive',\n",
              "                                                     [key], {});\n",
              "          if (!dataTable) return;\n",
              "\n",
              "          const docLinkHtml = 'Like what you see? Visit the ' +\n",
              "            '<a target=\"_blank\" href=https://colab.research.google.com/notebooks/data_table.ipynb>data table notebook</a>'\n",
              "            + ' to learn more about interactive tables.';\n",
              "          element.innerHTML = '';\n",
              "          dataTable['output_type'] = 'display_data';\n",
              "          await google.colab.output.renderOutput(dataTable, element);\n",
              "          const docLink = document.createElement('div');\n",
              "          docLink.innerHTML = docLinkHtml;\n",
              "          element.appendChild(docLink);\n",
              "        }\n",
              "      </script>\n",
              "    </div>\n",
              "  </div>\n",
              "  "
            ]
          },
          "metadata": {}
        }
      ]
    },
    {
      "cell_type": "code",
      "source": [
        "P = 5\n",
        "W = []\n",
        "w = np.random.uniform(-1, 1, P + 1)\n",
        "ret = optimize.minimize(J, w,  args=(P, X_train, Y_train), \n",
        "                        jac=grad_anal, method='SLSQP')\n",
        "W.append(ret.x)\n",
        "print(ret, '\\n')\n",
        "\n",
        "X = np.array([ x**i for i in range(P + 1) ])\n",
        "W = np.asarray(W)\n",
        "print(W.shape)\n",
        "y = (W.reshape(-1, 1) * X).sum(axis=0)\n",
        "\n",
        "plt.plot(X_train, Y_train, 'o',  markersize=8 , color='k')\n",
        "plt.plot(x, t, '--', color='k', label=\"True\")\n",
        "plt.plot(x, y, color='k', label=\"$P=${}\".format(P))\n",
        "plt.legend(loc='upper right', fontsize=20)\n",
        "    \n",
        "plt.subplots_adjust(hspace=0.05, wspace=0.05)\n",
        "\n",
        "plt.show()"
      ],
      "metadata": {
        "colab": {
          "base_uri": "https://localhost:8080/",
          "height": 453
        },
        "id": "YUS99JKqVYRA",
        "outputId": "ab19087c-017b-4895-af4b-c70ba9d23317"
      },
      "execution_count": 35,
      "outputs": [
        {
          "output_type": "stream",
          "name": "stdout",
          "text": [
            "     fun: 1.3292211259691535\n",
            "     jac: array([-0.0002,  0.0004,  0.0006,  0.0009,  0.0019,  0.0051])\n",
            " message: 'Optimization terminated successfully'\n",
            "    nfev: 26\n",
            "     nit: 18\n",
            "    njev: 18\n",
            "  status: 0\n",
            " success: True\n",
            "       x: array([  0.799 ,  27.0566, -80.0681,  82.785 , -35.6494,   5.4388]) \n",
            "\n",
            "(1, 6)\n"
          ]
        },
        {
          "output_type": "display_data",
          "data": {
            "text/plain": [
              "<Figure size 432x288 with 1 Axes>"
            ],
            "image/png": "[encoded data removed]"
          },
          "metadata": {}
        }
      ]
    },
    {
      "cell_type": "markdown",
      "source": [
        "# **과대적합**\n",
        "- 결과 평가"
      ],
      "metadata": {
        "id": "anwg1wnEQRqq"
      }
    },
    {
      "cell_type": "code",
      "source": [
        "from scipy import optimize\n",
        "\n",
        "np.random.seed(0)\n",
        "\n",
        "# P를 1, 3, 6, 12에 대해서 한번씩 피팅\n",
        "Ps = [1, 3, 6, 12]\n",
        "\n",
        "# 피팅결과 구해진 파라미터를 W에 저장\n",
        "W = []\n",
        "\n",
        "# 학습데이터를 넘기면서 fitting\n",
        "for P in Ps:\n",
        "    w = np.random.uniform(-1, 1, P + 1)\n",
        "    \n",
        "    ######################################################################\n",
        "    # scipy.optimize.minimize 사용하는 경우\n",
        "    ret = optimize.minimize(J, w,  args=(P, X_train, Y_train), \n",
        "                            jac=grad_anal, method='SLSQP')\n",
        "    W.append(ret.x)\n",
        "    print(ret)\n",
        "    ######################################################################\n",
        "    \n",
        "    print('\\n')"
      ],
      "metadata": {
        "colab": {
          "base_uri": "https://localhost:8080/"
        },
        "id": "oLqWscf3bome",
        "outputId": "146e76b0-8a44-4359-afbd-3bf52b1e57ff"
      },
      "execution_count": 36,
      "outputs": [
        {
          "output_type": "stream",
          "name": "stdout",
          "text": [
            "     fun: 3.885207834041835\n",
            "     jac: array([1.4433e-15, 2.5535e-15])\n",
            " message: 'Optimization terminated successfully'\n",
            "    nfev: 6\n",
            "     nit: 3\n",
            "    njev: 3\n",
            "  status: 0\n",
            " success: True\n",
            "       x: array([ 2.7696, -1.2081])\n",
            "\n",
            "\n",
            "     fun: 3.4455063925535767\n",
            "     jac: array([ 1.0348e-04, -1.3520e-04, -8.0562e-05,  5.3705e-05])\n",
            " message: 'Optimization terminated successfully'\n",
            "    nfev: 16\n",
            "     nit: 12\n",
            "    njev: 12\n",
            "  status: 0\n",
            " success: True\n",
            "       x: array([ 3.7515, -4.9209,  3.0384, -0.6851])\n",
            "\n",
            "\n",
            "     fun: 0.009816210285868793\n",
            "     jac: array([ 2.5636e-06, -4.1190e-08, -1.4329e-05, -7.6739e-06,  4.6361e-06,  6.7848e-06, -2.6317e-06])\n",
            " message: 'Optimization terminated successfully'\n",
            "    nfev: 45\n",
            "     nit: 36\n",
            "    njev: 36\n",
            "  status: 0\n",
            " success: True\n",
            "       x: array([  -2.7948,   76.3267, -256.8238,  345.8317, -222.4441,   68.3042,   -8.0596])\n",
            "\n",
            "\n",
            "     fun: 0.002234583085477833\n",
            "     jac: array([-2.7093e-05,  6.3770e-05,  4.5506e-05,  6.3097e-06,  7.1431e-05,  1.7677e-04,  3.0429e-04,  5.4298e-04,  1.0211e-03,  1.7671e-03,  2.5619e-03,\n",
            "        2.6307e-03, -1.6340e-03])\n",
            " message: 'Optimization terminated successfully'\n",
            "    nfev: 61\n",
            "     nit: 36\n",
            "    njev: 36\n",
            "  status: 0\n",
            " success: True\n",
            "       x: array([ -0.5868,  40.3157, -86.223 ,   8.584 ,  58.0692,  20.1646, -33.712 , -34.5344,  16.8644,  35.359 , -33.5996,  10.8848,  -1.247 ])\n",
            "\n",
            "\n"
          ]
        }
      ]
    },
    {
      "cell_type": "code",
      "source": [
        "def rmse(w, J, P, x, y):\n",
        "    return np.sqrt( (2*J(w, P, x, y)) / x.shape[0] )"
      ],
      "metadata": {
        "id": "oc6C1MCU1mbM"
      },
      "execution_count": 37,
      "outputs": []
    },
    {
      "cell_type": "markdown",
      "source": [
        "- **[그림 10-9]** 육차와 십이차 기저함수를 사용한 회귀에서 테스트 데이터에 대한 에러 표시"
      ],
      "metadata": {
        "id": "68Im24-_Qbmr"
      }
    },
    {
      "cell_type": "code",
      "source": [
        "fig, (ax1, ax2) = plt.subplots(1, 2, sharex=True, sharey=True)\n",
        "fig.set_size_inches((15, 6))\n",
        "\n",
        "X = np.array([ x**i for i in range(6 + 1) ])  \n",
        "y_6 = (W[-2].reshape(-1, 1) * X).sum(axis=0)\n",
        "X = np.array([ X_test**i for i in range(6 + 1) ])  \n",
        "y_6_test = (W[-2].reshape(-1, 1) * X).sum(axis=0)\n",
        "\n",
        "X = np.array([ x**i for i in range(12 + 1) ])  \n",
        "y_12 = (W[-1].reshape(-1, 1) * X).sum(axis=0)\n",
        "X = np.array([ X_test**i for i in range(12 + 1) ])\n",
        "y_12_test = (W[-1].reshape(-1, 1) * X).sum(axis=0)\n",
        "\n",
        "ax1.xaxis.set_tick_params(labelsize=18)\n",
        "ax1.yaxis.set_tick_params(labelsize=18)\n",
        "ax1.set_xlabel('$x$', fontsize=25)\n",
        "ax1.set_ylabel('$y$', fontsize=25)\n",
        "ax1.grid(False)\n",
        "ax1.plot(x, y_6, color='k', label=r'$P=6$')     # r for raw string (not to make it affected by escape charactors)\n",
        "ax1.plot(X_test, Y_test, 'o', markerfacecolor='w', markeredgecolor='gray', \n",
        "       markersize=8, label='Test data')\n",
        "ax1.plot([X_test, X_test], [y_6_test, Y_test], '--', color='k')\n",
        "ax1.legend(fontsize=18)\n",
        "\n",
        "ax2.xaxis.set_tick_params(labelsize=18)\n",
        "ax2.yaxis.set_tick_params(labelsize=18)\n",
        "ax2.set_xlabel('$x$', fontsize=25)\n",
        "ax2.set_ylabel('$y$', fontsize=25)\n",
        "ax2.grid(False)\n",
        "ax2.plot(x, y_12, color='k', label=r'$P=12$')       # r for raw string (not to make it affected by escape charactors)\n",
        "ax2.plot(X_test, Y_test, 'o', markerfacecolor='w', markeredgecolor='gray', \n",
        "       markersize=8, label='Test data')\n",
        "ax2.plot([X_test, X_test],[y_12_test, Y_test], '--', color='k')\n",
        "ax2.legend(fontsize=18)\n",
        "\n",
        "# if file_print == True:\n",
        "#     fig.savefig(\"imgs/chap10/fig10-9.png\", dpi=300, bbox_inches='tight')\n",
        "#     fig.savefig(\"imgs/chap10/fig10-9.pdf\", format='pdf', bbox_inches='tight')\n",
        "\n",
        "plt.show()"
      ],
      "metadata": {
        "id": "LdRYsNJN1meX",
        "colab": {
          "base_uri": "https://localhost:8080/",
          "height": 406
        },
        "outputId": "b5ce62f2-34b4-463d-93be-bcc9b60b77aa"
      },
      "execution_count": 38,
      "outputs": [
        {
          "output_type": "display_data",
          "data": {
            "text/plain": [
              "<Figure size 1080x432 with 2 Axes>"
            ],
            "image/png": "[encoded data removed]"
          },
          "metadata": {}
        }
      ]
    },
    {
      "cell_type": "markdown",
      "source": [
        "- 과대적합 실험"
      ],
      "metadata": {
        "id": "3pV4C5sDQ2Si"
      }
    },
    {
      "cell_type": "code",
      "source": [
        "np.random.seed(0)\n",
        "\n",
        "# P를 0 ~ (P_overfit - 1)에 대해서 한번씩 피팅\n",
        "P_overfit = 12\n",
        "Ps = np.arange(P_overfit + 1)\n",
        "\n",
        "# 피팅결과 구해진 파라미터를 W에 저장\n",
        "W = []\n",
        "\n",
        "# 학습데이터를 넘기면서 fitting\n",
        "for P in Ps :\n",
        "    w = np.random.uniform(-1, 1, P + 1)\n",
        "\n",
        "    ############################################################################\n",
        "    # scipy.optimize.minimize 사용하는 경우\n",
        "    ret = optimize.minimize(J, w, args=(P, X_train, Y_train), \n",
        "                            jac=grad_anal, method='SLSQP')\n",
        "                            \n",
        "    print(ret)\n",
        "    W.append(ret.x)\n",
        "    ############################################################################\n",
        "    \n",
        "    print('\\n')"
      ],
      "metadata": {
        "id": "SxQ2aUrP1mhC",
        "colab": {
          "base_uri": "https://localhost:8080/"
        },
        "outputId": "3c1255b7-085c-473d-f107-ec450869052e"
      },
      "execution_count": 39,
      "outputs": [
        {
          "output_type": "stream",
          "name": "stdout",
          "text": [
            "     fun: 8.166690145008648\n",
            "     jac: array([-1.3323e-15])\n",
            " message: 'Optimization terminated successfully'\n",
            "    nfev: 3\n",
            "     nit: 2\n",
            "    njev: 2\n",
            "  status: 0\n",
            " success: True\n",
            "       x: array([1.1991])\n",
            "\n",
            "\n",
            "     fun: 3.8852078340418346\n",
            "     jac: array([-6.3283e-15, -4.3299e-15])\n",
            " message: 'Optimization terminated successfully'\n",
            "    nfev: 6\n",
            "     nit: 3\n",
            "    njev: 3\n",
            "  status: 0\n",
            " success: True\n",
            "       x: array([ 2.7696, -1.2081])\n",
            "\n",
            "\n",
            "     fun: 3.705989424330791\n",
            "     jac: array([1.1879e-14, 1.9040e-14, 4.1300e-14])\n",
            " message: 'Optimization terminated successfully'\n",
            "    nfev: 8\n",
            "     nit: 5\n",
            "    njev: 5\n",
            "  status: 0\n",
            " success: True\n",
            "       x: array([ 3.1739, -2.1608,  0.3664])\n",
            "\n",
            "\n",
            "     fun: 3.445506329361491\n",
            "     jac: array([-1.1223e-05,  5.7160e-05,  5.8114e-05, -3.6805e-05])\n",
            " message: 'Optimization terminated successfully'\n",
            "    nfev: 13\n",
            "     nit: 9\n",
            "    njev: 9\n",
            "  status: 0\n",
            " success: True\n",
            "       x: array([ 3.751 , -4.9195,  3.0374, -0.6849])\n",
            "\n",
            "\n",
            "     fun: 3.4268467893357974\n",
            "     jac: array([ 7.5898e-05,  7.2932e-05,  1.1741e-04,  9.4004e-05, -7.0724e-05])\n",
            " message: 'Optimization terminated successfully'\n",
            "    nfev: 25\n",
            "     nit: 19\n",
            "    njev: 19\n",
            "  status: 0\n",
            " success: True\n",
            "       x: array([ 3.5619, -3.4342,  0.4566,  0.861 , -0.2973])\n",
            "\n",
            "\n",
            "     fun: 1.3292208968421932\n",
            "     jac: array([ 6.6524e-05, -7.4023e-05, -5.2153e-05,  6.0689e-06,  5.1415e-05, -3.5588e-05])\n",
            " message: 'Optimization terminated successfully'\n",
            "    nfev: 34\n",
            "     nit: 26\n",
            "    njev: 26\n",
            "  status: 0\n",
            " success: True\n",
            "       x: array([  0.7995,  27.0575, -80.0731,  82.7894, -35.6507,   5.4389])\n",
            "\n",
            "\n",
            "     fun: 0.009816183305107699\n",
            "     jac: array([ 5.9816e-06, -2.0621e-05, -6.7542e-05, -3.4760e-05,  1.8964e-05,  4.0996e-05, -1.5447e-05])\n",
            " message: 'Optimization terminated successfully'\n",
            "    nfev: 45\n",
            "     nit: 35\n",
            "    njev: 35\n",
            "  status: 0\n",
            " success: True\n",
            "       x: array([  -2.7943,   76.3216, -256.8096,  345.8149, -222.4345,   68.3015,   -8.0593])\n",
            "\n",
            "\n",
            "     fun: 0.1127237408266531\n",
            "     jac: array([ 1.8654e-06, -3.0115e-05,  1.3665e-04, -2.7088e-04,  2.7422e-04, -1.4810e-04,  4.0602e-05, -4.4396e-06])\n",
            " message: 'Optimization terminated successfully'\n",
            "    nfev: 29\n",
            "     nit: 18\n",
            "    njev: 18\n",
            "  status: 0\n",
            " success: True\n",
            "       x: array([  -0.5841,   42.3681, -108.1437,   58.0705,   64.1134,  -84.6534,   33.5116,   -4.5153])\n",
            "\n",
            "\n",
            "     fun: 0.012253231227919926\n",
            "     jac: array([ 2.1678e-06, -1.3562e-05,  9.3212e-06,  7.3857e-06,  1.4497e-05, -1.5049e-05, -9.7918e-06,  1.0666e-05, -2.1988e-06])\n",
            " message: 'Optimization terminated successfully'\n",
            "    nfev: 47\n",
            "     nit: 33\n",
            "    njev: 33\n",
            "  status: 0\n",
            " success: True\n",
            "       x: array([  -1.867 ,   60.6197, -174.7698,  146.0497,   41.3649, -131.9945,   79.2567,  -20.2927,    1.9469])\n",
            "\n",
            "\n",
            "     fun: 0.0397180581811542\n",
            "     jac: array([ 1.3436e-05,  2.0617e-05,  1.1443e-04,  7.6624e-06,  2.5444e-04,  4.2034e-04,  4.8740e-04,  8.9528e-04,  8.1583e-04, -5.2861e-04])\n",
            " message: 'Optimization terminated successfully'\n",
            "    nfev: 49\n",
            "     nit: 34\n",
            "    njev: 34\n",
            "  status: 0\n",
            " success: True\n",
            "       x: array([  -0.7973,   44.2146, -106.3147,   39.6989,   69.4179,  -26.3699,  -58.1233,   53.8024,  -17.2553,    1.9606])\n",
            "\n",
            "\n",
            "     fun: 0.004906570296372248\n",
            "     jac: array([-1.1063e-04,  1.3831e-05,  2.8296e-05,  4.6367e-05,  2.7077e-05, -1.2012e-05, -1.0539e-04, -3.0794e-04, -6.7720e-04, -1.5327e-03, -3.8999e-03])\n",
            " message: 'Optimization terminated successfully'\n",
            "    nfev: 65\n",
            "     nit: 48\n",
            "    njev: 48\n",
            "  status: 0\n",
            " success: True\n",
            "       x: array([  -1.8973,   60.4762, -168.2721,  118.9714,   68.9699,  -91.9343,  -39.0182,   94.7965,  -54.1802,   13.8168,   -1.3674])\n",
            "\n",
            "\n",
            "     fun: 0.0006111061354675965\n",
            "     jac: array([ 1.1125e-04,  6.7324e-05,  5.9344e-05,  7.3676e-05,  6.1982e-05,  4.1815e-05,  1.6603e-05, -2.3833e-05, -5.9130e-05, -2.7252e-05,  5.1120e-05,\n",
            "       -1.2684e-05])\n",
            " message: 'Optimization terminated successfully'\n",
            "    nfev: 60\n",
            "     nit: 40\n",
            "    njev: 40\n",
            "  status: 0\n",
            " success: True\n",
            "       x: array([  -1.2253,   49.8232, -121.7734,   46.5198,   78.3915,  -17.8705,  -64.5852,    4.1799,   60.0611,  -44.8256,   13.0709,   -1.4048])\n",
            "\n",
            "\n",
            "     fun: 0.002250107161945224\n",
            "     jac: array([-2.3634e-06,  1.4888e-07,  2.1095e-05, -2.7589e-05, -4.7117e-06,  2.1369e-05,  2.2210e-06, -2.8595e-05, -1.8714e-05,  3.6143e-06, -4.7071e-05,\n",
            "       -2.7895e-05,  1.8686e-05])\n",
            " message: 'Optimization terminated successfully'\n",
            "    nfev: 61\n",
            "     nit: 38\n",
            "    njev: 38\n",
            "  status: 0\n",
            " success: True\n",
            "       x: array([ -0.5879,  40.3413, -86.4146,   9.233 ,  57.0152,  20.8252, -33.4334, -35.1579,  17.1022,  35.4555, -33.7066,  10.9175,  -1.2505])\n",
            "\n",
            "\n"
          ]
        }
      ]
    },
    {
      "cell_type": "code",
      "source": [
        "# 회귀계수를 모아서 테이블 형태로 출력\n",
        "A = np.full((len(Ps), len(Ps)), np.nan)\n",
        "for i in range(len(W)):\n",
        "    A[0 : W[i].shape[0], i] = W[i]\n",
        "    \n",
        "df = pd.DataFrame(data=A, columns=['P={}'.format(i) for i in range(len(Ps))])\n",
        "display(df)     # OR print(df.to_html()) or display(HTML(df.to_html()))    "
      ],
      "metadata": {
        "id": "lScxE4Vc1mjy",
        "colab": {
          "base_uri": "https://localhost:8080/",
          "height": 521
        },
        "outputId": "a2323c1a-6426-4cbd-84e8-5728cfef9284"
      },
      "execution_count": 40,
      "outputs": [
        {
          "output_type": "display_data",
          "data": {
            "text/plain": [
              "         P=0       P=1       P=2       P=3       P=4        P=5         P=6  \\\n",
              "0   1.199066  2.769644  3.173902  3.750987  3.561913   0.799549   -2.794306   \n",
              "1        NaN -1.208138 -2.160770 -4.919524 -3.434200  27.057473   76.321567   \n",
              "2        NaN       NaN  0.366397  3.037407  0.456591 -80.073051 -256.809556   \n",
              "3        NaN       NaN       NaN -0.684884  0.860990  82.789397  345.814896   \n",
              "4        NaN       NaN       NaN       NaN -0.297303 -35.650732 -222.434455   \n",
              "5        NaN       NaN       NaN       NaN       NaN   5.438929   68.301514   \n",
              "6        NaN       NaN       NaN       NaN       NaN        NaN   -8.059336   \n",
              "7        NaN       NaN       NaN       NaN       NaN        NaN         NaN   \n",
              "8        NaN       NaN       NaN       NaN       NaN        NaN         NaN   \n",
              "9        NaN       NaN       NaN       NaN       NaN        NaN         NaN   \n",
              "10       NaN       NaN       NaN       NaN       NaN        NaN         NaN   \n",
              "11       NaN       NaN       NaN       NaN       NaN        NaN         NaN   \n",
              "12       NaN       NaN       NaN       NaN       NaN        NaN         NaN   \n",
              "\n",
              "           P=7         P=8         P=9        P=10        P=11       P=12  \n",
              "0    -0.584076   -1.867044   -0.797312   -1.897327   -1.225345  -0.587949  \n",
              "1    42.368127   60.619737   44.214575   60.476223   49.823209  40.341332  \n",
              "2  -108.143661 -174.769765 -106.314748 -168.272122 -121.773408 -86.414618  \n",
              "3    58.070544  146.049691   39.698942  118.971404   46.519763   9.232995  \n",
              "4    64.113358   41.364858   69.417905   68.969870   78.391515  57.015235  \n",
              "5   -84.653401 -131.994463  -26.369917  -91.934261  -17.870524  20.825204  \n",
              "6    33.511565   79.256677  -58.123282  -39.018220  -64.585249 -33.433409  \n",
              "7    -4.515290  -20.292713   53.802370   94.796548    4.179897 -35.157876  \n",
              "8          NaN    1.946883  -17.255251  -54.180218   60.061090  17.102164  \n",
              "9          NaN         NaN    1.960633   13.816769  -44.825644  35.455518  \n",
              "10         NaN         NaN         NaN   -1.367386   13.070931 -33.706645  \n",
              "11         NaN         NaN         NaN         NaN   -1.404812  10.917478  \n",
              "12         NaN         NaN         NaN         NaN         NaN  -1.250465  "
            ],
            "text/html": [
              "\n",
              "  <div id=\"df-e53b3dfb-85dd-458d-b648-8a7e1332b061\">\n",
              "    <div class=\"colab-df-container\">\n",
              "      <div>\n",
              "<style scoped>\n",
              "    .dataframe tbody tr th:only-of-type {\n",
              "        vertical-align: middle;\n",
              "    }\n",
              "\n",
              "    .dataframe tbody tr th {\n",
              "        vertical-align: top;\n",
              "    }\n",
              "\n",
              "    .dataframe thead th {\n",
              "        text-align: right;\n",
              "    }\n",
              "</style>\n",
              "<table border=\"1\" class=\"dataframe\">\n",
              "  <thead>\n",
              "    <tr style=\"text-align: right;\">\n",
              "      <th></th>\n",
              "      <th>P=0</th>\n",
              "      <th>P=1</th>\n",
              "      <th>P=2</th>\n",
              "      <th>P=3</th>\n",
              "      <th>P=4</th>\n",
              "      <th>P=5</th>\n",
              "      <th>P=6</th>\n",
              "      <th>P=7</th>\n",
              "      <th>P=8</th>\n",
              "      <th>P=9</th>\n",
              "      <th>P=10</th>\n",
              "      <th>P=11</th>\n",
              "      <th>P=12</th>\n",
              "    </tr>\n",
              "  </thead>\n",
              "  <tbody>\n",
              "    <tr>\n",
              "      <th>0</th>\n",
              "      <td>1.199066</td>\n",
              "      <td>2.769644</td>\n",
              "      <td>3.173902</td>\n",
              "      <td>3.750987</td>\n",
              "      <td>3.561913</td>\n",
              "      <td>0.799549</td>\n",
              "      <td>-2.794306</td>\n",
              "      <td>-0.584076</td>\n",
              "      <td>-1.867044</td>\n",
              "      <td>-0.797312</td>\n",
              "      <td>-1.897327</td>\n",
              "      <td>-1.225345</td>\n",
              "      <td>-0.587949</td>\n",
              "    </tr>\n",
              "    <tr>\n",
              "      <th>1</th>\n",
              "      <td>NaN</td>\n",
              "      <td>-1.208138</td>\n",
              "      <td>-2.160770</td>\n",
              "      <td>-4.919524</td>\n",
              "      <td>-3.434200</td>\n",
              "      <td>27.057473</td>\n",
              "      <td>76.321567</td>\n",
              "      <td>42.368127</td>\n",
              "      <td>60.619737</td>\n",
              "      <td>44.214575</td>\n",
              "      <td>60.476223</td>\n",
              "      <td>49.823209</td>\n",
              "      <td>40.341332</td>\n",
              "    </tr>\n",
              "    <tr>\n",
              "      <th>2</th>\n",
              "      <td>NaN</td>\n",
              "      <td>NaN</td>\n",
              "      <td>0.366397</td>\n",
              "      <td>3.037407</td>\n",
              "      <td>0.456591</td>\n",
              "      <td>-80.073051</td>\n",
              "      <td>-256.809556</td>\n",
              "      <td>-108.143661</td>\n",
              "      <td>-174.769765</td>\n",
              "      <td>-106.314748</td>\n",
              "      <td>-168.272122</td>\n",
              "      <td>-121.773408</td>\n",
              "      <td>-86.414618</td>\n",
              "    </tr>\n",
              "    <tr>\n",
              "      <th>3</th>\n",
              "      <td>NaN</td>\n",
              "      <td>NaN</td>\n",
              "      <td>NaN</td>\n",
              "      <td>-0.684884</td>\n",
              "      <td>0.860990</td>\n",
              "      <td>82.789397</td>\n",
              "      <td>345.814896</td>\n",
              "      <td>58.070544</td>\n",
              "      <td>146.049691</td>\n",
              "      <td>39.698942</td>\n",
              "      <td>118.971404</td>\n",
              "      <td>46.519763</td>\n",
              "      <td>9.232995</td>\n",
              "    </tr>\n",
              "    <tr>\n",
              "      <th>4</th>\n",
              "      <td>NaN</td>\n",
              "      <td>NaN</td>\n",
              "      <td>NaN</td>\n",
              "      <td>NaN</td>\n",
              "      <td>-0.297303</td>\n",
              "      <td>-35.650732</td>\n",
              "      <td>-222.434455</td>\n",
              "      <td>64.113358</td>\n",
              "      <td>41.364858</td>\n",
              "      <td>69.417905</td>\n",
              "      <td>68.969870</td>\n",
              "      <td>78.391515</td>\n",
              "      <td>57.015235</td>\n",
              "    </tr>\n",
              "    <tr>\n",
              "      <th>5</th>\n",
              "      <td>NaN</td>\n",
              "      <td>NaN</td>\n",
              "      <td>NaN</td>\n",
              "      <td>NaN</td>\n",
              "      <td>NaN</td>\n",
              "      <td>5.438929</td>\n",
              "      <td>68.301514</td>\n",
              "      <td>-84.653401</td>\n",
              "      <td>-131.994463</td>\n",
              "      <td>-26.369917</td>\n",
              "      <td>-91.934261</td>\n",
              "      <td>-17.870524</td>\n",
              "      <td>20.825204</td>\n",
              "    </tr>\n",
              "    <tr>\n",
              "      <th>6</th>\n",
              "      <td>NaN</td>\n",
              "      <td>NaN</td>\n",
              "      <td>NaN</td>\n",
              "      <td>NaN</td>\n",
              "      <td>NaN</td>\n",
              "      <td>NaN</td>\n",
              "      <td>-8.059336</td>\n",
              "      <td>33.511565</td>\n",
              "      <td>79.256677</td>\n",
              "      <td>-58.123282</td>\n",
              "      <td>-39.018220</td>\n",
              "      <td>-64.585249</td>\n",
              "      <td>-33.433409</td>\n",
              "    </tr>\n",
              "    <tr>\n",
              "      <th>7</th>\n",
              "      <td>NaN</td>\n",
              "      <td>NaN</td>\n",
              "      <td>NaN</td>\n",
              "      <td>NaN</td>\n",
              "      <td>NaN</td>\n",
              "      <td>NaN</td>\n",
              "      <td>NaN</td>\n",
              "      <td>-4.515290</td>\n",
              "      <td>-20.292713</td>\n",
              "      <td>53.802370</td>\n",
              "      <td>94.796548</td>\n",
              "      <td>4.179897</td>\n",
              "      <td>-35.157876</td>\n",
              "    </tr>\n",
              "    <tr>\n",
              "      <th>8</th>\n",
              "      <td>NaN</td>\n",
              "      <td>NaN</td>\n",
              "      <td>NaN</td>\n",
              "      <td>NaN</td>\n",
              "      <td>NaN</td>\n",
              "      <td>NaN</td>\n",
              "      <td>NaN</td>\n",
              "      <td>NaN</td>\n",
              "      <td>1.946883</td>\n",
              "      <td>-17.255251</td>\n",
              "      <td>-54.180218</td>\n",
              "      <td>60.061090</td>\n",
              "      <td>17.102164</td>\n",
              "    </tr>\n",
              "    <tr>\n",
              "      <th>9</th>\n",
              "      <td>NaN</td>\n",
              "      <td>NaN</td>\n",
              "      <td>NaN</td>\n",
              "      <td>NaN</td>\n",
              "      <td>NaN</td>\n",
              "      <td>NaN</td>\n",
              "      <td>NaN</td>\n",
              "      <td>NaN</td>\n",
              "      <td>NaN</td>\n",
              "      <td>1.960633</td>\n",
              "      <td>13.816769</td>\n",
              "      <td>-44.825644</td>\n",
              "      <td>35.455518</td>\n",
              "    </tr>\n",
              "    <tr>\n",
              "      <th>10</th>\n",
              "      <td>NaN</td>\n",
              "      <td>NaN</td>\n",
              "      <td>NaN</td>\n",
              "      <td>NaN</td>\n",
              "      <td>NaN</td>\n",
              "      <td>NaN</td>\n",
              "      <td>NaN</td>\n",
              "      <td>NaN</td>\n",
              "      <td>NaN</td>\n",
              "      <td>NaN</td>\n",
              "      <td>-1.367386</td>\n",
              "      <td>13.070931</td>\n",
              "      <td>-33.706645</td>\n",
              "    </tr>\n",
              "    <tr>\n",
              "      <th>11</th>\n",
              "      <td>NaN</td>\n",
              "      <td>NaN</td>\n",
              "      <td>NaN</td>\n",
              "      <td>NaN</td>\n",
              "      <td>NaN</td>\n",
              "      <td>NaN</td>\n",
              "      <td>NaN</td>\n",
              "      <td>NaN</td>\n",
              "      <td>NaN</td>\n",
              "      <td>NaN</td>\n",
              "      <td>NaN</td>\n",
              "      <td>-1.404812</td>\n",
              "      <td>10.917478</td>\n",
              "    </tr>\n",
              "    <tr>\n",
              "      <th>12</th>\n",
              "      <td>NaN</td>\n",
              "      <td>NaN</td>\n",
              "      <td>NaN</td>\n",
              "      <td>NaN</td>\n",
              "      <td>NaN</td>\n",
              "      <td>NaN</td>\n",
              "      <td>NaN</td>\n",
              "      <td>NaN</td>\n",
              "      <td>NaN</td>\n",
              "      <td>NaN</td>\n",
              "      <td>NaN</td>\n",
              "      <td>NaN</td>\n",
              "      <td>-1.250465</td>\n",
              "    </tr>\n",
              "  </tbody>\n",
              "</table>\n",
              "</div>\n",
              "      <button class=\"colab-df-convert\" onclick=\"convertToInteractive('df-e53b3dfb-85dd-458d-b648-8a7e1332b061')\"\n",
              "              title=\"Convert this dataframe to an interactive table.\"\n",
              "              style=\"display:none;\">\n",
              "        \n",
              "  <svg xmlns=\"http://www.w3.org/2000/svg\" height=\"24px\"viewBox=\"0 0 24 24\"\n",
              "       width=\"24px\">\n",
              "    <path d=\"M0 0h24v24H0V0z\" fill=\"none\"/>\n",
              "    <path d=\"M18.56 5.44l.94 2.06.94-2.06 2.06-.94-2.06-.94-.94-2.06-.94 2.06-2.06.94zm-11 1L8.5 8.5l.94-2.06 2.06-.94-2.06-.94L8.5 2.5l-.94 2.06-2.06.94zm10 10l.94 2.06.94-2.06 2.06-.94-2.06-.94-.94-2.06-.94 2.06-2.06.94z\"/><path d=\"M17.41 7.96l-1.37-1.37c-.4-.4-.92-.59-1.43-.59-.52 0-1.04.2-1.43.59L10.3 9.45l-7.72 7.72c-.78.78-.78 2.05 0 2.83L4 21.41c.39.39.9.59 1.41.59.51 0 1.02-.2 1.41-.59l7.78-7.78 2.81-2.81c.8-.78.8-2.07 0-2.86zM5.41 20L4 18.59l7.72-7.72 1.47 1.35L5.41 20z\"/>\n",
              "  </svg>\n",
              "      </button>\n",
              "      \n",
              "  <style>\n",
              "    .colab-df-container {\n",
              "      display:flex;\n",
              "      flex-wrap:wrap;\n",
              "      gap: 12px;\n",
              "    }\n",
              "\n",
              "    .colab-df-convert {\n",
              "      background-color: #E8F0FE;\n",
              "      border: none;\n",
              "      border-radius: 50%;\n",
              "      cursor: pointer;\n",
              "      display: none;\n",
              "      fill: #1967D2;\n",
              "      height: 32px;\n",
              "      padding: 0 0 0 0;\n",
              "      width: 32px;\n",
              "    }\n",
              "\n",
              "    .colab-df-convert:hover {\n",
              "      background-color: #E2EBFA;\n",
              "      box-shadow: 0px 1px 2px rgba(60, 64, 67, 0.3), 0px 1px 3px 1px rgba(60, 64, 67, 0.15);\n",
              "      fill: #174EA6;\n",
              "    }\n",
              "\n",
              "    [theme=dark] .colab-df-convert {\n",
              "      background-color: #3B4455;\n",
              "      fill: #D2E3FC;\n",
              "    }\n",
              "\n",
              "    [theme=dark] .colab-df-convert:hover {\n",
              "      background-color: #434B5C;\n",
              "      box-shadow: 0px 1px 3px 1px rgba(0, 0, 0, 0.15);\n",
              "      filter: drop-shadow(0px 1px 2px rgba(0, 0, 0, 0.3));\n",
              "      fill: #FFFFFF;\n",
              "    }\n",
              "  </style>\n",
              "\n",
              "      <script>\n",
              "        const buttonEl =\n",
              "          document.querySelector('#df-e53b3dfb-85dd-458d-b648-8a7e1332b061 button.colab-df-convert');\n",
              "        buttonEl.style.display =\n",
              "          google.colab.kernel.accessAllowed ? 'block' : 'none';\n",
              "\n",
              "        async function convertToInteractive(key) {\n",
              "          const element = document.querySelector('#df-e53b3dfb-85dd-458d-b648-8a7e1332b061');\n",
              "          const dataTable =\n",
              "            await google.colab.kernel.invokeFunction('convertToInteractive',\n",
              "                                                     [key], {});\n",
              "          if (!dataTable) return;\n",
              "\n",
              "          const docLinkHtml = 'Like what you see? Visit the ' +\n",
              "            '<a target=\"_blank\" href=https://colab.research.google.com/notebooks/data_table.ipynb>data table notebook</a>'\n",
              "            + ' to learn more about interactive tables.';\n",
              "          element.innerHTML = '';\n",
              "          dataTable['output_type'] = 'display_data';\n",
              "          await google.colab.output.renderOutput(dataTable, element);\n",
              "          const docLink = document.createElement('div');\n",
              "          docLink.innerHTML = docLinkHtml;\n",
              "          element.appendChild(docLink);\n",
              "        }\n",
              "      </script>\n",
              "    </div>\n",
              "  </div>\n",
              "  "
            ]
          },
          "metadata": {}
        }
      ]
    },
    {
      "cell_type": "markdown",
      "source": [
        "- **[그림 10-10]** 기저함수 차수별 학습 데이터와 테스트 데이터에 대한 RMSE"
      ],
      "metadata": {
        "id": "LaYgIA4mSHl1"
      }
    },
    {
      "cell_type": "code",
      "source": [
        "fig = plt.figure(figsize=(10, 7))\n",
        "ax = fig.add_subplot(1, 1, 1)\n",
        "ax.xaxis.set_tick_params(labelsize=18)\n",
        "ax.yaxis.set_tick_params(labelsize=18)\n",
        "\n",
        "RMSE = np.zeros((len(Ps), 3))\n",
        "\n",
        "for i in Ps:\n",
        "    RMSE[i, 0] = i\n",
        "    RMSE[i, 1] = rmse(W[i], J, W[i].shape[0] - 1, X_train, Y_train)\n",
        "    RMSE[i, 2] = rmse(W[i], J, W[i].shape[0] - 1, X_test, Y_test)\n",
        "\n",
        "ax.plot(RMSE[:, 0], RMSE[:, 1], 'o-', color='k', markersize=13, fillstyle='none', label='Train data')    \n",
        "ax.plot(RMSE[:, 0], RMSE[:, 2], '^--', color='k', markersize=13, fillstyle='none', label='Test data')\n",
        "ax.set_xticks( np.arange(len(Ps)))\n",
        "\n",
        "ax.set_xlabel('Degree', fontsize=20)\n",
        "ax.set_ylabel('RMSE', fontsize=20)\n",
        "\n",
        "plt.legend(fontsize=20)\n",
        "\n",
        "# if file_print == True:\n",
        "#     fig.savefig(\"imgs/chap10/fig10-10.png\", dpi=300, bbox_inches='tight')\n",
        "#     fig.savefig(\"imgs/chap10/fig10-10.pdf\", format='pdf', bbox_inches='tight')\n",
        "\n",
        "plt.show()"
      ],
      "metadata": {
        "id": "n0Fzx8CF1mmv",
        "colab": {
          "base_uri": "https://localhost:8080/",
          "height": 455
        },
        "outputId": "633bacf5-3f9d-4354-a3d6-c85f4b8ddf27"
      },
      "execution_count": 41,
      "outputs": [
        {
          "output_type": "display_data",
          "data": {
            "text/plain": [
              "<Figure size 720x504 with 1 Axes>"
            ],
            "image/png": "[encoded data removed]"
          },
          "metadata": {}
        }
      ]
    },
    {
      "cell_type": "markdown",
      "source": [
        "## **데이터 모으기**\n",
        "- **[그림 10-11]** 더 많은 데이터에 대한 십이차 회귀 결과"
      ],
      "metadata": {
        "id": "2xuadvw1WpSU"
      }
    },
    {
      "cell_type": "code",
      "source": [
        "np.random.seed(0)\n",
        "\n",
        "###########################################\n",
        "# 12차로 더 많은 데이터를 모아 선형회귀 시도\n",
        "###########################################\n",
        "P = 12\n",
        "w = np.random.uniform(-1, 1, P + 1)\n",
        "\n",
        "########################################################################\n",
        "# scipy.optimize.minimize 사용하는 경우\n",
        "ret = optimize.minimize(J, w, args=(P, X_test, Y_test), \n",
        "                            jac=grad_anal, method='SLSQP')\n",
        "print(ret)\n",
        "w = ret.x\n",
        "########################################################################\n",
        "\n",
        "###########################################\n",
        "# 많은 데이터에 대한 회귀 결과 출력\n",
        "###########################################\n",
        "X = np.array([ x**i for i in range(P + 1) ])  \n",
        "y = (w.reshape(-1, 1) * X).sum(axis=0)\n",
        "\n",
        "fig = plt.figure(figsize=(10, 7))\n",
        "ax = fig.add_subplot(1, 1, 1)\n",
        "ax.xaxis.set_tick_params(labelsize=18)\n",
        "ax.yaxis.set_tick_params(labelsize=18)\n",
        "ax.set_xlabel('$x$', fontsize=25)\n",
        "ax.set_ylabel('$y$', fontsize=25)\n",
        "ax.grid(False)\n",
        "\n",
        "ax.plot(x, t, '--', color='k', label='True')\n",
        "ax.plot(x, y, color='k', label=r'$P=12$')\n",
        "ax.plot(X_test, Y_test, 'o', markerfacecolor='w', markeredgecolor='gray', markersize=8, color='k')\n",
        "ax.legend(fontsize=18)\n",
        "\n",
        "# if file_print == True:\n",
        "#     fig.savefig(\"imgs/chap10/fig10-11.png\", dpi=300, bbox_inches='tight')\n",
        "#     fig.savefig(\"imgs/chap10/fig10-11.pdf\", format='pdf', bbox_inches='tight')\n",
        "\n",
        "plt.show()\n",
        "\n",
        "print(\"w:{}\".format(w.reshape(1, -1)[::-1][0]))"
      ],
      "metadata": {
        "id": "wu76FuKL0EVs",
        "colab": {
          "base_uri": "https://localhost:8080/",
          "height": 651
        },
        "outputId": "bc348ad9-0e11-4925-b9c5-4a4242219145"
      },
      "execution_count": 42,
      "outputs": [
        {
          "output_type": "stream",
          "name": "stdout",
          "text": [
            "     fun: 5.913373354910268\n",
            "     jac: array([ 7.2968e-07,  4.3711e-05, -2.5239e-04,  5.0146e-04, -3.8538e-04, -1.0464e-04,  3.2961e-04, -3.3935e-05, -2.8461e-04,  2.1687e-04, -1.5705e-04,\n",
            "       -1.3545e-04, -3.6968e-04])\n",
            " message: 'Optimization terminated successfully'\n",
            "    nfev: 68\n",
            "     nit: 40\n",
            "    njev: 40\n",
            "  status: 0\n",
            " success: True\n",
            "       x: array([  -1.949 ,   53.6163, -140.6764,   83.0757,   73.0042,  -56.8196,  -61.8145,   46.7243,   49.4922,  -74.1632,   37.7378,   -8.9559,    0.8345])\n"
          ]
        },
        {
          "output_type": "display_data",
          "data": {
            "text/plain": [
              "<Figure size 720x504 with 1 Axes>"
            ],
            "image/png": "[encoded data removed]"
          },
          "metadata": {}
        },
        {
          "output_type": "stream",
          "name": "stdout",
          "text": [
            "w:[  -1.949    53.6163 -140.6764   83.0757   73.0042  -56.8196  -61.8145   46.7243   49.4922  -74.1632   37.7378   -8.9559    0.8345]\n"
          ]
        }
      ]
    },
    {
      "cell_type": "markdown",
      "source": [
        "## **규제**"
      ],
      "metadata": {
        "id": "di0C_Zk-XLCn"
      }
    },
    {
      "cell_type": "code",
      "source": [
        "W"
      ],
      "metadata": {
        "colab": {
          "base_uri": "https://localhost:8080/"
        },
        "id": "y-HyWSkKuIXk",
        "outputId": "ca05fc6b-9052-4d7b-eea9-49e0f74be076"
      },
      "execution_count": 43,
      "outputs": [
        {
          "output_type": "execute_result",
          "data": {
            "text/plain": [
              "[array([1.1991]),\n",
              " array([ 2.7696, -1.2081]),\n",
              " array([ 3.1739, -2.1608,  0.3664]),\n",
              " array([ 3.751 , -4.9195,  3.0374, -0.6849]),\n",
              " array([ 3.5619, -3.4342,  0.4566,  0.861 , -0.2973]),\n",
              " array([  0.7995,  27.0575, -80.0731,  82.7894, -35.6507,   5.4389]),\n",
              " array([  -2.7943,   76.3216, -256.8096,  345.8149, -222.4345,   68.3015,   -8.0593]),\n",
              " array([  -0.5841,   42.3681, -108.1437,   58.0705,   64.1134,  -84.6534,   33.5116,   -4.5153]),\n",
              " array([  -1.867 ,   60.6197, -174.7698,  146.0497,   41.3649, -131.9945,   79.2567,  -20.2927,    1.9469]),\n",
              " array([  -0.7973,   44.2146, -106.3147,   39.6989,   69.4179,  -26.3699,  -58.1233,   53.8024,  -17.2553,    1.9606]),\n",
              " array([  -1.8973,   60.4762, -168.2721,  118.9714,   68.9699,  -91.9343,  -39.0182,   94.7965,  -54.1802,   13.8168,   -1.3674]),\n",
              " array([  -1.2253,   49.8232, -121.7734,   46.5198,   78.3915,  -17.8705,  -64.5852,    4.1799,   60.0611,  -44.8256,   13.0709,   -1.4048]),\n",
              " array([ -0.5879,  40.3413, -86.4146,   9.233 ,  57.0152,  20.8252, -33.4334, -35.1579,  17.1022,  35.4555, -33.7066,  10.9175,  -1.2505])]"
            ]
          },
          "metadata": {},
          "execution_count": 43
        }
      ]
    },
    {
      "cell_type": "code",
      "source": [
        "W[3]"
      ],
      "metadata": {
        "colab": {
          "base_uri": "https://localhost:8080/"
        },
        "id": "7X6DJJJjwvZV",
        "outputId": "00960cb0-9098-46ee-bc5f-aee3b428ddac"
      },
      "execution_count": 44,
      "outputs": [
        {
          "output_type": "execute_result",
          "data": {
            "text/plain": [
              "array([ 3.751 , -4.9195,  3.0374, -0.6849])"
            ]
          },
          "metadata": {},
          "execution_count": 44
        }
      ]
    },
    {
      "cell_type": "code",
      "source": [
        "W[4]"
      ],
      "metadata": {
        "id": "qeZdIO1PWdp3",
        "colab": {
          "base_uri": "https://localhost:8080/"
        },
        "outputId": "9756c13e-ae13-434d-b3ee-e5c99bc25e97"
      },
      "execution_count": 45,
      "outputs": [
        {
          "output_type": "execute_result",
          "data": {
            "text/plain": [
              "array([ 3.5619, -3.4342,  0.4566,  0.861 , -0.2973])"
            ]
          },
          "metadata": {},
          "execution_count": 45
        }
      ]
    },
    {
      "cell_type": "code",
      "source": [
        "W[-1]"
      ],
      "metadata": {
        "id": "8uvW9t7-Wdui",
        "colab": {
          "base_uri": "https://localhost:8080/"
        },
        "outputId": "753a39ac-18cb-435d-920f-e43d356da869"
      },
      "execution_count": 46,
      "outputs": [
        {
          "output_type": "execute_result",
          "data": {
            "text/plain": [
              "array([ -0.5879,  40.3413, -86.4146,   9.233 ,  57.0152,  20.8252, -33.4334, -35.1579,  17.1022,  35.4555, -33.7066,  10.9175,  -1.2505])"
            ]
          },
          "metadata": {},
          "execution_count": 46
        }
      ]
    },
    {
      "cell_type": "code",
      "source": [
        "W[12]"
      ],
      "metadata": {
        "colab": {
          "base_uri": "https://localhost:8080/"
        },
        "id": "KngVJI9ZwsHL",
        "outputId": "516444ef-061c-4cbc-e297-cf260f7a397c"
      },
      "execution_count": 47,
      "outputs": [
        {
          "output_type": "execute_result",
          "data": {
            "text/plain": [
              "array([ -0.5879,  40.3413, -86.4146,   9.233 ,  57.0152,  20.8252, -33.4334, -35.1579,  17.1022,  35.4555, -33.7066,  10.9175,  -1.2505])"
            ]
          },
          "metadata": {},
          "execution_count": 47
        }
      ]
    },
    {
      "cell_type": "code",
      "source": [
        "x_tmp = np.asarray(range(11))\n",
        "print(x_tmp)\n",
        "N = x_tmp.shape[0]\n",
        "print(np.power(x_tmp.reshape(N, 1), 2))"
      ],
      "metadata": {
        "colab": {
          "base_uri": "https://localhost:8080/"
        },
        "id": "iuZnczuzDE9a",
        "outputId": "6cf017f4-f197-41b9-b4be-00a2b214e94e"
      },
      "execution_count": 58,
      "outputs": [
        {
          "output_type": "stream",
          "name": "stdout",
          "text": [
            "[ 0  1  2  3  4  5  6  7  8  9 10]\n",
            "[[  0]\n",
            " [  1]\n",
            " [  4]\n",
            " [  9]\n",
            " [ 16]\n",
            " [ 25]\n",
            " [ 36]\n",
            " [ 49]\n",
            " [ 64]\n",
            " [ 81]\n",
            " [100]]\n"
          ]
        }
      ]
    },
    {
      "cell_type": "code",
      "source": [
        "###########################################\n",
        "# L2 Reg. term을 가진 에러함수를 다시 정의하고 피팅 시도\n",
        "###########################################\n",
        "def J_L2(w, P, x, y):\n",
        "    \"\"\"\n",
        "    Error function with L2 Reg. term\n",
        "    \"\"\"\n",
        "    X = np.array([ x**i for i in range(P + 1) ])  \n",
        "    y_pred = np.dot(X.T, w) # y_pred = (w.reshape(-1, 1) * X).sum(axis=0)\n",
        "    \n",
        "    #                                                L2 reg. term\n",
        "    # return 0.5*(( (y_pred - y)**2 ).sum()) + (lambda_/2.) * np.linalg.norm(w[1:])**2\n",
        "    return 0.5*(( (y - y_pred)**2 ).sum()) + (lambda_/2.) * np.linalg.norm(w)**2\n",
        "\n",
        "    # X = np.array([ x**i for i in range(P+1) ])  \n",
        "    # y_pred = np.dot(X.T, w) # y_pred = (w.reshape(-1,1) * X).sum(axis=0)\n",
        "    # return 0.5*(( (y - y_pred)**2 ).sum())\n",
        "\n",
        "\n",
        "def grad_anal_L2(w, P, x, y):\n",
        "    \"\"\"\n",
        "    This function computes the analytic gradient of the objective function\n",
        "    x, t : data for error function eval.\n",
        "    \"\"\"\n",
        "    N = x.shape[0]\n",
        "    PI = np.hstack( np.array( [np.power(x.reshape(N, 1), p) for p in range(P + 1)] ) )\n",
        "    \n",
        "    g = np.dot(np.dot(w.T, PI.T)-y.T , PI)\n",
        "    \n",
        "    # g_reg = np.hstack( np.array([0 , lambda_*w[1:]]) )\n",
        "    g_reg = lambda_*w\n",
        "    \n",
        "    g = g + g_reg\n",
        "    \n",
        "    return g"
      ],
      "metadata": {
        "id": "RfyOlRXkWdym"
      },
      "execution_count": 61,
      "outputs": []
    },
    {
      "cell_type": "markdown",
      "source": [
        "- **[그림 10-12]** 규제를 적용한 학습 데이터에 대한 십이차 피팅"
      ],
      "metadata": {
        "id": "jga6NFPuXaJk"
      }
    },
    {
      "cell_type": "code",
      "source": [
        "np.random.seed(0)\n",
        "\n",
        "P = 12\n",
        "lambda_ = 0.00007 \n",
        "w = np.random.uniform(-1, 1, P + 1)\n",
        "\n",
        "########################################################################\n",
        "# scipy.optimize.minimize 사용하는 경우\n",
        "ret = optimize.minimize(J_L2, w,  args=(P, X_train, Y_train), \n",
        "                        jac=grad_anal_L2, method='SLSQP')\n",
        "print(ret)\n",
        "w = ret.x\n",
        "########################################################################\n",
        "\n",
        "###########################################\n",
        "# L2 레귤러라이제이션 결과 출력\n",
        "###########################################\n",
        "X = np.array([ x**i for i in range(P + 1) ])  \n",
        "y = (w.reshape(-1, 1) * X).sum(axis=0)\n",
        "\n",
        "fig = plt.figure(figsize=(10, 7))\n",
        "ax = fig.add_subplot(1, 1, 1)\n",
        "ax.xaxis.set_tick_params(labelsize=18)\n",
        "ax.yaxis.set_tick_params(labelsize=18)\n",
        "ax.set_xlabel('$x$', fontsize=25)\n",
        "ax.set_ylabel('$y$', fontsize=25)\n",
        "ax.grid(False)\n",
        "\n",
        "ax.plot(x, t, '--', color='k', label='True')\n",
        "ax.plot(X_train, Y_train, 'o', markersize=8, color='k', label='Train data')\n",
        "ax.plot(x, y, color='k', label=r'$P=12$')\n",
        "ax.legend(fontsize=18)\n",
        "\n",
        "# if file_print == True:\n",
        "#     fig.savefig(\"imgs/chap10/fig10-12.png\", dpi=300, bbox_inches='tight')\n",
        "#     fig.savefig(\"imgs/chap10/fig10-12.pdf\", format='pdf', bbox_inches='tight')\n",
        "\n",
        "plt.show()\n",
        "\n",
        "rmse(w, J, w.shape[0] - 1, X_test, Y_test)"
      ],
      "metadata": {
        "id": "183V91VxWd2m",
        "colab": {
          "base_uri": "https://localhost:8080/",
          "height": 651
        },
        "outputId": "2a530084-a461-45d0-c262-7b830dad31cc"
      },
      "execution_count": 62,
      "outputs": [
        {
          "output_type": "stream",
          "name": "stdout",
          "text": [
            "     fun: 0.34749659136385314\n",
            "     jac: array([-5.5455e-06,  5.8363e-06,  3.3752e-06, -1.5887e-05, -1.3939e-05, -1.7843e-06, -5.5575e-05, -7.9064e-05, -1.2474e-04, -2.3715e-04, -3.3585e-04,\n",
            "       -3.4950e-04,  2.1520e-04])\n",
            " message: 'Optimization terminated successfully'\n",
            "    nfev: 60\n",
            "     nit: 37\n",
            "    njev: 37\n",
            "  status: 0\n",
            " success: True\n",
            "       x: array([  0.5938,  26.3377, -52.3529,  -0.7034,  31.0342,  16.0466, -13.2641, -18.6246,   3.9871,  16.1792, -12.0452,   3.2923,  -0.3243])\n"
          ]
        },
        {
          "output_type": "display_data",
          "data": {
            "text/plain": [
              "<Figure size 720x504 with 1 Axes>"
            ],
            "image/png": "[encoded data removed]"
          },
          "metadata": {}
        },
        {
          "output_type": "execute_result",
          "data": {
            "text/plain": [
              "0.40088568138790276"
            ]
          },
          "metadata": {},
          "execution_count": 62
        }
      ]
    },
    {
      "cell_type": "markdown",
      "source": [
        "# **확률적 경사하강법 SGD**\n",
        "- **[그림 10-13]** 첫 번째 에폭에서 업데이트 과정, ▲: 업데이트 전 위치, ●: 업데이트 후 위치, ★: 최적점"
      ],
      "metadata": {
        "id": "DFP-EohjXp0X"
      }
    },
    {
      "cell_type": "code",
      "source": [
        "fig, ax = plt.subplots(2, 5, sharex='all', sharey='all')\n",
        "fig.set_size_inches((25, 10))\n",
        "\n",
        "np.random.seed(0)\n",
        "\n",
        "epoch = 15\n",
        "batch_size = 10\n",
        "P = 1\n",
        "eta = 0.05\n",
        "w = np.random.uniform(-1, 1, P + 1)\n",
        "w_star = np.array([ 2.7696, -1.2081])\n",
        "costs = [ J(w, P, X_test, Y_test) ]\n",
        "ws = [w]\n",
        "\n",
        "ww1 = np.linspace(0, 3, 200)\n",
        "ww2 = np.linspace(-1.5, 1.5, 200)\n",
        "W1, W2 = np.meshgrid(ww1, ww2)\n",
        "W = np.array([W1, W2])\n",
        "\n",
        "# initial cost\n",
        "print('Epoch:  0, Cost: {:3.4f}'.format(costs[-1]))\n",
        "\n",
        "X_test_idx = np.arange(100)\n",
        "\n",
        "for e in range(epoch):\n",
        "    np.random.shuffle(X_test_idx)\n",
        "    \n",
        "    for i in range(X_test.shape[0] // batch_size):\n",
        "        # get batch\n",
        "        X_batch = X_test[X_test_idx[i*batch_size:i*batch_size + batch_size]]\n",
        "        Y_batch = Y_test[X_test_idx[i*batch_size:i*batch_size + batch_size]]\n",
        "        \n",
        "        # gradient\n",
        "        c = grad_anal(w, P, X_batch, Y_batch)\n",
        "        \n",
        "        # update params\n",
        "        w = w - eta*c\n",
        "        \n",
        "        ws.append(w)\n",
        "        \n",
        "        # 첫번째 에폭에서 각 배치마다 코스트를 그린다. (2, 5)\n",
        "        if e == 0:\n",
        "            p, q = divmod(i, 5)\n",
        "            #############################################################\n",
        "            # 에러함수의 제약조건 있는 상태와 없는 상태를 계산\n",
        "            # 루프 돌리면 구현은 직관적이나 비효율적\n",
        "            J_unconst = np.zeros_like(W1)\n",
        "            \n",
        "            for k in range(W1.shape[0]):\n",
        "                for l in range(W1.shape[1]):\n",
        "                    J_unconst[k, l] = J(W[:, k, l], P, X_batch, Y_batch)\n",
        "            #############################################################\n",
        "            \n",
        "            CS1 = ax[p, q].contour(W1, W2, J_unconst, cmap=plt.cm.gray)\n",
        "            ax[p, q].clabel(CS1, CS1.levels,  fmt='%.3f', inline=True, fontsize=13)\n",
        "            ax[p, q].plot(ws[-1][0], ws[-1][1], 'o', color='k', markersize=8)\n",
        "            ax[p, q].plot(ws[-2][0], ws[-2][1], '^', color='k', markersize=8)\n",
        "            ax[p, q].plot(w_star[0], w_star[1], '*', color='k', markersize=15)\n",
        "            \n",
        "            ax[p, q].xaxis.set_tick_params(labelsize=15)\n",
        "            ax[p, q].yaxis.set_tick_params(labelsize=15)\n",
        "            ax[p, q].set_xlabel('$x$', fontsize=25)\n",
        "            ax[p, q].set_ylabel('$y$', fontsize=25)\n",
        "            ax[p, q].grid(False)\n",
        "            \n",
        "    costs.append(J(w, P, X_test, Y_test))\n",
        "    print('Epoch: {:2d}, Cost: {:3.4f}'.format(e + 1, costs[-1]))\n",
        "\n",
        "print(w)  \n",
        "\n",
        "for ax_ in ax.flat:\n",
        "    ax_.label_outer()\n",
        "    \n",
        "plt.subplots_adjust(hspace=0.1, wspace=0.05)\n",
        "\n",
        "# if file_print == True:\n",
        "#     fig.savefig(\"imgs/chap10/fig10-13.png\", dpi=300, bbox_inches='tight')\n",
        "#     fig.savefig(\"imgs/chap10/fig10-13.pdf\", format='pdf', bbox_inches='tight')\n",
        "\n",
        "plt.show()"
      ],
      "metadata": {
        "id": "CK9idQ-0Wd6W"
      },
      "execution_count": null,
      "outputs": []
    },
    {
      "cell_type": "markdown",
      "source": [
        "- **[그림 10-14]** 확률적 경사하강법의 전체 탐색 과정"
      ],
      "metadata": {
        "id": "xxTR6K8JYQPc"
      }
    },
    {
      "cell_type": "code",
      "source": [
        "fig = plt.figure(figsize=(14, 7))\n",
        "ax1 = fig.add_subplot(1, 2, 1)\n",
        "ax2 = fig.add_subplot(1, 2, 2)\n",
        "\n",
        "ax1.xaxis.set_tick_params(labelsize=18)\n",
        "ax1.yaxis.set_tick_params(labelsize=18)\n",
        "ax1.set_xlabel('epoch', fontsize=25)\n",
        "ax1.set_ylabel('$J$', fontsize=25)\n",
        "ax1.grid(False)\n",
        "ax2.xaxis.set_tick_params(labelsize=18)\n",
        "ax2.yaxis.set_tick_params(labelsize=18)\n",
        "ax2.set_xlabel('$w_1$', fontsize=25)\n",
        "ax2.set_ylabel('$w_2$', fontsize=25)\n",
        "ax2.grid(False)\n",
        "\n",
        "ax1.plot(costs[:2], 'o-', color='k')\n",
        "ax1.plot(range(1, 16), costs[1:], 'o--', color='k')\n",
        "\n",
        "path = np.array(ws[:11])\n",
        "ax2.plot(path[:, 0], path[:, 1], 'o-', markersize=8, color='k')\n",
        "path = np.array(ws[10:])\n",
        "ax2.plot(path[:, 0], path[:, 1], 'o--', markersize=8, color='k')\n",
        "ax2.plot(w_star[0], w_star[1], '*', color='w', markersize=20, markeredgecolor='k')\n",
        "ax2.plot(ws[-1][0], ws[-1][1], 'o', color='w', markersize=10, markeredgecolor='k')\n",
        "\n",
        "# if file_print == True:\n",
        "#     fig.savefig(\"imgs/chap10/fig10-14.png\", dpi=300, bbox_inches='tight')\n",
        "#     fig.savefig(\"imgs/chap10/fig10-14.pdf\", format='pdf', bbox_inches='tight')\n",
        "\n",
        "plt.show()"
      ],
      "metadata": {
        "id": "v33upe6tXpFo"
      },
      "execution_count": null,
      "outputs": []
    },
    {
      "cell_type": "markdown",
      "source": [
        "# **노멀 방정식 풀기**\n",
        "## **미분하기**"
      ],
      "metadata": {
        "id": "nvdXjcWMYZtT"
      }
    },
    {
      "cell_type": "code",
      "source": [
        "P = 6\n",
        "\n",
        "#########################################################################\n",
        "# DESIGN MATRIX \n",
        "# 다항함수를 기반으로하는 design matrix Φ를 만든다.\n",
        "PI = np.hstack( np.array([np.power(X_train.reshape(-1, 1), p) for p in range(P + 1)]) )\n",
        "#########################################################################\n",
        "\n",
        "PI.shape"
      ],
      "metadata": {
        "id": "n9tBR9zuXpK2"
      },
      "execution_count": null,
      "outputs": []
    },
    {
      "cell_type": "code",
      "source": [
        "w_normal = np.linalg.solve(np.dot(PI.T, PI), np.dot(PI.T, Y_train.reshape(N, 1)) )\n",
        "w_normal = np.dot(np.linalg.inv(np.dot(PI.T, PI)), np.dot(PI.T, Y_train.reshape(N, 1)))\n",
        "print(w_normal.shape)\n",
        "\n",
        "w_normal = w_normal.reshape(-1)\n",
        "print(w_normal.shape)"
      ],
      "metadata": {
        "id": "Bk4bhsM-XpOK"
      },
      "execution_count": null,
      "outputs": []
    },
    {
      "cell_type": "code",
      "source": [
        "# 다항식으로 구성한다. np.poly1d가 고차수 계수에서 저차수 계수 순서로 저장된 \n",
        "# 리스트를 요구하므로 w_normal의 순서를 뒤집어 준다.\n",
        "y_normal = np.poly1d(w_normal[::-1])\n",
        "y_normal "
      ],
      "metadata": {
        "id": "baICZaPBXpRb"
      },
      "execution_count": null,
      "outputs": []
    },
    {
      "cell_type": "markdown",
      "source": [
        "- **[그림 10-15]** 노멀 방정식을 이용한 육차 다항식 피팅"
      ],
      "metadata": {
        "id": "UlYg6rtPZHhh"
      }
    },
    {
      "cell_type": "code",
      "source": [
        "fig = plt.figure(figsize=(10, 7))\n",
        "ax = fig.add_subplot(1, 1, 1)\n",
        "ax.xaxis.set_tick_params(labelsize=18)\n",
        "ax.yaxis.set_tick_params(labelsize=18)\n",
        "ax.set_xlabel('$x$', fontsize=25)\n",
        "ax.set_ylabel('$y$', fontsize=25)\n",
        "ax.grid(False)\n",
        "\n",
        "ax.plot(x, t, '--', color='k', label=\"True\")\n",
        "ax.plot(X_train, Y_train, 'o',  markersize=8 , color='k')\n",
        "ax.plot(x, y_normal(x), color='k', label=r\"by normal eq.\")\n",
        "ax.legend(fontsize=18)\n",
        "\n",
        "# if file_print == True:\n",
        "#     fig.savefig(\"imgs/chap10/fig10-15.png\", dpi=300, bbox_inches='tight')\n",
        "#     fig.savefig(\"imgs/chap10/fig10-15.pdf\", format='pdf', bbox_inches='tight')\n",
        "\n",
        "plt.show()"
      ],
      "metadata": {
        "id": "tRyTNXwoXpUo"
      },
      "execution_count": null,
      "outputs": []
    },
    {
      "cell_type": "code",
      "source": [
        "P = 12\n",
        "lamda = 0.00007 \n",
        "\n",
        "#########################################################################\n",
        "# DESIGN MATRIX \n",
        "# 다항함수를 기반으로하는 design matrix Φ를 만든다.\n",
        "PI = np.hstack( np.array([np.power(X_train.reshape(-1, 1), p) for p in range(P + 1)]) )\n",
        "#########################################################################\n",
        "\n",
        "w_normal_reg = np.linalg.solve(np.dot(PI.T, PI)+lamda*np.eye(PI.shape[1]), np.dot(PI.T , Y_train.reshape(N, 1)) ).reshape(-1)\n",
        "\n",
        "# 다항식으로 구성한다. np.poly1d가 고차수 계수에서 저차수 계수 순서로 저장된 \n",
        "# 리스트를 요구하므로 w_normal의 순서를 뒤집어 준다.\n",
        "y_normal_reg = np.poly1d(w_normal_reg[::-1])\n",
        "\n",
        "y_normal_reg"
      ],
      "metadata": {
        "id": "n3SUh_J_ZF-v"
      },
      "execution_count": null,
      "outputs": []
    },
    {
      "cell_type": "markdown",
      "source": [
        "- **[그림 10-16]** 페널티 항이 있는 노멀 방정식을 이용한 십이차 다항식 피팅"
      ],
      "metadata": {
        "id": "ObYH2p6ZaFaP"
      }
    },
    {
      "cell_type": "code",
      "source": [
        "fig = plt.figure(figsize=(10, 7))\n",
        "ax = fig.add_subplot(1, 1, 1)\n",
        "ax.xaxis.set_tick_params(labelsize=18)\n",
        "ax.yaxis.set_tick_params(labelsize=18)\n",
        "ax.set_xlabel('$x$', fontsize=25)\n",
        "ax.set_ylabel('$y$', fontsize=25)\n",
        "ax.grid(False)\n",
        "\n",
        "ax.plot(x, t, '--', color='k', label=\"True\")\n",
        "ax.plot(X_train, Y_train, 'o',  markersize=8 , color='k')\n",
        "ax.plot(x, y_normal_reg(x), color='k', label=r\"by normal eq. with reg.\")\n",
        "ax.legend(fontsize=18)\n",
        "\n",
        "# if file_print == True:\n",
        "#     fig.savefig(\"imgs/chap10/fig10-16.png\", dpi=300, bbox_inches='tight')\n",
        "#     fig.savefig(\"imgs/chap10/fig10-16.pdf\", format='pdf', bbox_inches='tight')\n",
        "\n",
        "plt.show()"
      ],
      "metadata": {
        "id": "MDafaZ9hZGDp"
      },
      "execution_count": null,
      "outputs": []
    },
    {
      "cell_type": "markdown",
      "source": [
        "# **입력이 여러 개인 경우**"
      ],
      "metadata": {
        "id": "kH6AU_8wacsc"
      }
    },
    {
      "cell_type": "code",
      "source": [
        "# http://college.cengage.com/mathematics/brase/understandable_statistics/7e/students/datasets/mlr/frames/mlr02.html\n",
        "# col1 : 혈압, col2 : 나이, col3 : 몸무게(파운드)\n",
        "blood_pressure = np.array([[132, 52, 173],\n",
        "                           [143, 59, 184],\n",
        "                           [153, 67, 194],\n",
        "                           [162, 73, 211],\n",
        "                           [154, 64, 196],\n",
        "                           [168, 74, 220],\n",
        "                           [137, 54, 188],\n",
        "                           [149, 61, 188],\n",
        "                           [159, 65, 207],\n",
        "                           [128, 46, 167],\n",
        "                           [166, 72, 217]])"
      ],
      "metadata": {
        "id": "uhKCOoZBZGG9"
      },
      "execution_count": null,
      "outputs": []
    },
    {
      "cell_type": "markdown",
      "source": [
        "- **[그림 10-17]** 입력이 두 개인 문제에 대한 선형회귀 결과"
      ],
      "metadata": {
        "id": "CPKSzVLjaiYN"
      }
    },
    {
      "cell_type": "code",
      "source": [
        "X_train = blood_pressure[:, 1:]\n",
        "Y_train = blood_pressure[:, 0]\n",
        "\n",
        "# Design matrix\n",
        "PI = np.hstack((np.ones(blood_pressure.shape[0]).reshape(-1, 1), \n",
        "                blood_pressure[:, 1:]))\n",
        "\n",
        "w = np.linalg.solve( PI.T@PI, PI.T@Y_train )\n",
        "\n",
        "x1 = np.linspace(45, 75, 50)        # 나이\n",
        "x2 = np.linspace(160, 230, 50)    # 몸무게\n",
        "xx1, xx2 = np.meshgrid(x1, x2)\n",
        "\n",
        "# 회귀 평면\n",
        "P = w[0] + xx1*w[1] + xx2*w[2]\n",
        "\n",
        "fig = plt.figure(figsize=(15, 8))\n",
        "ax1 = fig.add_subplot(121, projection=\"3d\")\n",
        "ax2 = fig.add_subplot(122, projection=\"3d\")\n",
        "\n",
        "ax1.xaxis.set_tick_params(labelsize=15)\n",
        "ax1.yaxis.set_tick_params(labelsize=15)\n",
        "ax1.zaxis.set_tick_params(labelsize=15)\n",
        "\n",
        "ax1.scatter3D(blood_pressure[:, 1], blood_pressure[:, 2], blood_pressure[:, 0], \n",
        "             s=50, color='k')\n",
        "ax1.plot_wireframe(xx1, xx2, P, rstride=5, cstride=5, \n",
        "                cmap=plt.cm.gray, edgecolor=\"k\", alpha=0.2)\n",
        "\n",
        "ax1.view_init(50, 10)\n",
        "\n",
        "ax1.set_xlabel('Age')\n",
        "ax1.set_ylabel('Weight')\n",
        "ax1.set_zlabel('Blood pressure')\n",
        "\n",
        "###############################################################################\n",
        "\n",
        "ax2.xaxis.set_tick_params(labelsize=15)\n",
        "ax2.yaxis.set_tick_params(labelsize=15)\n",
        "ax2.zaxis.set_tick_params(labelsize=15)\n",
        "\n",
        "ax2.scatter3D(blood_pressure[:, 1], blood_pressure[:, 2], blood_pressure[:, 0], \n",
        "             s=50, color='k')\n",
        "ax2.plot_wireframe(xx1, xx2, P, rstride=5, cstride=5, \n",
        "                cmap=plt.cm.gray, edgecolor=\"k\", alpha=0.2)\n",
        "\n",
        "ax2.view_init(15, -25)\n",
        "\n",
        "ax2.set_xlabel('Age')\n",
        "ax2.set_ylabel('Weight')\n",
        "ax2.set_zlabel('Blood pressure')\n",
        "\n",
        "plt.subplots_adjust(hspace=0.0, wspace=0.0)\n",
        "\n",
        "# if file_print == True:\n",
        "#     fig.savefig(\"imgs/chap10/fig10-17.png\", dpi=300, bbox_inches='tight')\n",
        "#     fig.savefig(\"imgs/chap10/fig10-17.pdf\", format='pdf', bbox_inches='tight')\n",
        "\n",
        "plt.show()"
      ],
      "metadata": {
        "id": "LfkRea4XZGKe"
      },
      "execution_count": null,
      "outputs": []
    },
    {
      "cell_type": "markdown",
      "source": [
        "# **인공신경망 모델**\n",
        "## **인공신경망 정의와 학습**"
      ],
      "metadata": {
        "id": "hSnqLQCta9d5"
      }
    },
    {
      "cell_type": "code",
      "source": [
        "import torch\n",
        "torch.__version__"
      ],
      "metadata": {
        "id": "MBQOgJm7ZGNl"
      },
      "execution_count": null,
      "outputs": []
    },
    {
      "cell_type": "code",
      "source": [
        "# 데이터 다시 초기화\n",
        "X_train = D['X_train']\n",
        "Y_train = D['Y_train']"
      ],
      "metadata": {
        "id": "rxGLDi5qbJD9"
      },
      "execution_count": null,
      "outputs": []
    },
    {
      "cell_type": "code",
      "source": [
        "def train(X, y, model, loss_fn, optimizer, max_iter=5000, log=1000):\n",
        "    for i in range(max_iter):\n",
        "        Y_pred = model(X)\n",
        "\n",
        "        # 손실을 계산하고 \n",
        "        loss = loss_fn(Y_pred.view(-1), y)\n",
        "        \n",
        "        # 필요하면 출력\n",
        "        if i % log == log - 1:\n",
        "            print(\"Iter: {:5d}, Loss: {:f}\".format(i + 1, loss.item()))\n",
        "            \n",
        "        # 경사도 벡터를 초기화 시키고\n",
        "        optimizer.zero_grad()\n",
        "\n",
        "        # 역전파 한 후에\n",
        "        loss.backward()\n",
        "\n",
        "        # Optimizer의 step 함수를 호출하면 매개변수가 갱신\n",
        "        optimizer.step()"
      ],
      "metadata": {
        "id": "FHpDhoMLbJI2"
      },
      "execution_count": null,
      "outputs": []
    },
    {
      "cell_type": "markdown",
      "source": [
        "- 입력 레이어 1, 히든 레이어 3, 출력 레이어 1이고 비선형 활성화 함수 사용함"
      ],
      "metadata": {
        "id": "tMzGfpkbbPRk"
      }
    },
    {
      "cell_type": "code",
      "source": [
        "torch.manual_seed(0)\n",
        "\n",
        "X_train_torch = torch.Tensor(X_train.reshape(-1, 1))\n",
        "Y_train_torch = torch.Tensor(Y_train)\n",
        "\n",
        "# 입력특성 1차원, 히든레이어 3차원, 출력 1차원으로 \n",
        "D_in, H, D_out = 1, 3, 1\n",
        "\n",
        "# torch.nn.Sequential을 사용하여 신경망을 구성한다.\n",
        "model = torch.nn.Sequential(\n",
        "            torch.nn.Linear(D_in, H),\n",
        "            torch.nn.Sigmoid(),\n",
        "            torch.nn.Linear(H, D_out)\n",
        "        )\n",
        "\n",
        "loss_fn = torch.nn.MSELoss(reduction='sum')\n",
        "optimizer = torch.optim.Adam(model.parameters(), lr=0.15)"
      ],
      "metadata": {
        "id": "e86hojPmbJMv"
      },
      "execution_count": null,
      "outputs": []
    },
    {
      "cell_type": "code",
      "source": [
        "train(X_train_torch, Y_train_torch, model, loss_fn, optimizer)"
      ],
      "metadata": {
        "id": "3rxcdRRFbJQE"
      },
      "execution_count": null,
      "outputs": []
    },
    {
      "cell_type": "markdown",
      "source": [
        "- **[그림 10-19]** 인공신경망을 이용한 피팅"
      ],
      "metadata": {
        "id": "-u1-hkphbi1R"
      }
    },
    {
      "cell_type": "code",
      "source": [
        "X =  torch.Tensor(x.reshape(-1, 1))\n",
        "Y_pred = model(X)\n",
        "\n",
        "fig = plt.figure(figsize=(10, 7))\n",
        "ax = fig.add_subplot(1, 1, 1)\n",
        "ax.xaxis.set_tick_params(labelsize=18)\n",
        "ax.yaxis.set_tick_params(labelsize=18)\n",
        "ax.set_xlabel('$x$', fontsize=25)\n",
        "ax.set_ylabel('$y$', fontsize=25)\n",
        "ax.grid(False)\n",
        "\n",
        "ax.plot(x, t, '--', color='k', label=\"True\")\n",
        "ax.plot(X_train, Y_train, 'o', markersize=8 , color='k')\n",
        "plt.plot(x, Y_pred.detach().numpy(), color='k', label=\"NN(1-3-1) non-linear\")\n",
        "\n",
        "ax.legend(fontsize=18)\n",
        "\n",
        "# if file_print == True:\n",
        "#     fig.savefig(\"imgs/chap10/fig10-19.png\", dpi=300, bbox_inches='tight')\n",
        "#     fig.savefig(\"imgs/chap10/fig10-19.pdf\", format='pdf', bbox_inches='tight')\n",
        "\n",
        "plt.show()"
      ],
      "metadata": {
        "id": "vjgkGAJKbJTr"
      },
      "execution_count": null,
      "outputs": []
    },
    {
      "cell_type": "markdown",
      "source": [
        "## **인공신경망의 비선형성**\n",
        "- 입력 레이어 1, 히든 레이어 3, 출력 레이어 1이고 비선형 활성화 함수 사용 안함"
      ],
      "metadata": {
        "id": "jBFopvD4cWve"
      }
    },
    {
      "cell_type": "code",
      "source": [
        "torch.manual_seed(0)\n",
        "\n",
        "model = torch.nn.Sequential(\n",
        "            torch.nn.Linear(D_in, H),\n",
        "            torch.nn.Linear(H, D_out)\n",
        "        )\n",
        "\n",
        "loss_fn = torch.nn.MSELoss(reduction='sum')\n",
        "optimizer = torch.optim.Adam(model.parameters(), lr=0.15)\n",
        "\n",
        "train(X_train_torch, Y_train_torch, model, loss_fn, optimizer)"
      ],
      "metadata": {
        "id": "019i6c4NbJY3"
      },
      "execution_count": null,
      "outputs": []
    },
    {
      "cell_type": "markdown",
      "source": [
        "- **[그림 10-20]** 활성화 함수를 제거한 인공신경망을 이용한 피팅"
      ],
      "metadata": {
        "id": "x7984EA1csJE"
      }
    },
    {
      "cell_type": "code",
      "source": [
        "X =  torch.Tensor(x.reshape(-1, 1))\n",
        "Y_pred = model(X)\n",
        "\n",
        "fig = plt.figure(figsize=(10, 7))\n",
        "ax = fig.add_subplot(1, 1, 1)\n",
        "ax.xaxis.set_tick_params(labelsize=18)\n",
        "ax.yaxis.set_tick_params(labelsize=18)\n",
        "ax.set_xlabel('$x$', fontsize=25)\n",
        "ax.set_ylabel('$y$', fontsize=25)\n",
        "ax.grid(False)\n",
        "\n",
        "ax.plot(x, t, '--', color='k', label=\"True\")\n",
        "ax.plot(X_train, Y_train, 'o', markersize=8 , color='k')\n",
        "plt.plot(x, Y_pred.detach().numpy(), color='k', label=\"NN(1-3-1) linear\")\n",
        "\n",
        "ax.legend(fontsize=18)\n",
        "\n",
        "# if file_print == True:\n",
        "#     fig.savefig(\"imgs/chap10/fig10-20.png\", dpi=300, bbox_inches='tight')\n",
        "#     fig.savefig(\"imgs/chap10/fig10-20.pdf\", format='pdf', bbox_inches='tight')\n",
        "\n",
        "plt.show()"
      ],
      "metadata": {
        "id": "uTWcNYHebJdF"
      },
      "execution_count": null,
      "outputs": []
    },
    {
      "cell_type": "markdown",
      "source": [
        "- 입력에 다항식 특성을 적용한 경우"
      ],
      "metadata": {
        "id": "7y3TFf5BdFSm"
      }
    },
    {
      "cell_type": "code",
      "source": [
        "torch.manual_seed(0)\n",
        "\n",
        "# 여기서 다항 특성을 부여하고 신경망에서 활성화 함수를 빼버림\n",
        "P = 6\n",
        "X_poly = np.array([ X_train**i for i in range(0, P + 1) ]).T\n",
        "X_train_torch = torch.Tensor(X_poly)\n",
        "Y_train_torch = torch.Tensor(Y_train)\n",
        "\n",
        "D_in, H, D_out = P + 1, 3, 1\n",
        "\n",
        "model = torch.nn.Sequential(\n",
        "            torch.nn.Linear(D_in, H),\n",
        "            torch.nn.Linear(H, D_out)\n",
        "        )\n",
        "\n",
        "loss_fn = torch.nn.MSELoss(reduction='sum')\n",
        "optimizer = torch.optim.Adam(model.parameters(), lr=0.01, betas=(0.999, 0.9999))\n",
        "\n",
        "train(X_train_torch, Y_train_torch, model, loss_fn, optimizer, max_iter=70000, log=5000)"
      ],
      "metadata": {
        "id": "jsvABq0ObJhO"
      },
      "execution_count": null,
      "outputs": []
    },
    {
      "cell_type": "markdown",
      "source": [
        "- **[그림 10-21]** 육차 다항 기저함수를 적용한 입력에 활성화 함수를 제거한 인공신경망을 이용한 피팅"
      ],
      "metadata": {
        "id": "dIwnkv53dKtj"
      }
    },
    {
      "cell_type": "code",
      "source": [
        "X_poly = np.array([ x**i for i in range(0, P + 1) ]).T\n",
        "X = torch.Tensor(X_poly)\n",
        "Y_pred = model(X)\n",
        "\n",
        "fig = plt.figure(figsize=(10, 7))\n",
        "ax = fig.add_subplot(1, 1, 1)\n",
        "ax.xaxis.set_tick_params(labelsize=18)\n",
        "ax.yaxis.set_tick_params(labelsize=18)\n",
        "ax.set_xlabel('$x$', fontsize=25)\n",
        "ax.set_ylabel('$y$', fontsize=25)\n",
        "ax.grid(False)\n",
        "\n",
        "ax.plot(x, t, '--', color='k', label=\"True\")\n",
        "ax.plot(X_train, Y_train, 'o', markersize=8 , color='k')\n",
        "plt.plot(x, Y_pred.detach().numpy(), color='k', label=\"NN(7-3-1) linear\")\n",
        "\n",
        "ax.legend(fontsize=18)\n",
        "\n",
        "# if file_print == True:\n",
        "#     fig.savefig(\"imgs/chap10/fig10-21.png\", dpi=300, bbox_inches='tight')\n",
        "#     fig.savefig(\"imgs/chap10/fig10-21.pdf\", format='pdf', bbox_inches='tight')\n",
        "\n",
        "plt.show()"
      ],
      "metadata": {
        "id": "FuNG2hLOZGQT"
      },
      "execution_count": null,
      "outputs": []
    },
    {
      "cell_type": "code",
      "source": [
        "X_poly.shape"
      ],
      "metadata": {
        "id": "uTvkq2jUdXoL"
      },
      "execution_count": null,
      "outputs": []
    }
  ]
}