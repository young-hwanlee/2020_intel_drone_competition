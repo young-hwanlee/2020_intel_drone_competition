{
 "cells": [
  {
   "cell_type": "markdown",
   "metadata": {},
   "source": [
    "<img src='https://www.anadronestarting.com/wp-content/uploads/intel-main_opt.png' width=40%>\n",
    "\n",
    "# Lecture 001. 데이터 모으기\n",
    "\n",
    "<div align='right'>이  인  구 (Ike Lee)</div>  \n",
    "\n",
    "<img src='https://blog.sknetworks.co.kr/wp-content/uploads/2017/11/39371743_ml.jpg' width=40%>\n",
    "\n",
    "---"
   ]
  },
  {
   "cell_type": "markdown",
   "metadata": {},
   "source": [
    "### 이 강좌를 통해 데이터를 모으는 방법 :\n",
    "\n",
    "   1) Kernel - Restart & Run All 을 누르면 나오는 네모상자에 원하는 사물 이름을 입력해줍니다.\n",
    "   \n",
    "   2) 입력 후 엔터를 치면 카메라 화면이 뜨고 space 키를 눌러 사진을 찍습니다.(계속 누르고 있으면 연속으로 찍힙니다)\n",
    "   \n",
    "   3) 사진을 다 찍었으면 Esc 키를 눌러 카메라 창을 끕니다.\n",
    "   \n",
    "   4) 다시 한번 Kernel - Restart & Run All 을 눌러 네모상자에 다른 사물 이름을 입력해줍니다.\n",
    "   \n",
    "   5) 위 과정을 반복해주면 찍힌 사진들이 카테고리별로 train/valid/test 에 분류되어 데이터 준비 과정이 완료됩니다.\n",
    "   "
   ]
  },
  {
   "cell_type": "markdown",
   "metadata": {},
   "source": [
    "### 필요한 라이브러리를 불러옵니다."
   ]
  },
  {
   "cell_type": "code",
   "execution_count": 1,
   "metadata": {},
   "outputs": [],
   "source": [
    "import cv2\n",
    "import numpy as np\n",
    "import os, sys\n",
    "from time import strftime, localtime\n",
    "import random\n",
    "import pathlib\n",
    "import shutil"
   ]
  },
  {
   "cell_type": "markdown",
   "metadata": {},
   "source": [
    "### 카메라를 켭니다."
   ]
  },
  {
   "cell_type": "code",
   "execution_count": 2,
   "metadata": {},
   "outputs": [],
   "source": [
    "cap = cv2.VideoCapture(0)\n",
    "if not cap.isOpened(): sys.exit('camera error')\n",
    "\n",
    "params = list()\n",
    "params.append(cv2.IMWRITE_PNG_COMPRESSION)\n",
    "params.append(8)\n",
    "cwd = os.getcwd() "
   ]
  },
  {
   "cell_type": "markdown",
   "metadata": {},
   "source": [
    "### 원하는 사물의 이름을 입력한 후 사진을 찍어 데이터를 모아줍니다.\n",
    "#### 그 후, 모아준 데이터를 train, valid, test 폴더로 분류해줍니다."
   ]
  },
  {
   "cell_type": "code",
   "execution_count": 3,
   "metadata": {},
   "outputs": [
    {
     "name": "stdout",
     "output_type": "stream",
     "text": [
      "paper\n"
     ]
    }
   ],
   "source": [
    "i = input()\n",
    "if not os.path.exists(\"/home/intel/test/data/VOC4IC/\" + i):\n",
    "    os.mkdir(\"/home/intel/test/data/VOC4IC/\" + i)\n",
    "if not os.path.exists(\"/home/intel/test/data/VOC4IC/test/\" + i):\n",
    "    os.mkdir(\"/home/intel/test/data/VOC4IC/test/\" + i)\n",
    "if not os.path.exists(\"/home/intel/test/data/VOC4IC/train/\" + i):\n",
    "    os.mkdir(\"/home/intel/test/data/VOC4IC/train/\" + i)\n",
    "if not os.path.exists(\"/home/intel/test/data/VOC4IC/valid/\" + i):\n",
    "    os.mkdir(\"/home/intel/test/data/VOC4IC/valid/\" + i)    \n",
    "while True:\n",
    "    ret, frame = cap.read();\n",
    "    if not ret: continue \n",
    "    rows, cols, channels = frame.shape\n",
    "    width = cols\n",
    "    height = rows\n",
    "    length = min(width, height)\n",
    "    pt = [60,60]\n",
    "    if width < height: pt[1] += int((height - length) / 2)\n",
    "    else: pt[0] += int((width - length) / 2)\n",
    "    green = (0, 255, 0)  #BGR\n",
    "    length -= 120\n",
    "    cv2.rectangle(frame, (pt[0], pt[1]), (pt[0]+length, pt[1]+length), green, 4)\n",
    "    cv2.imshow('view', frame)\n",
    "    ch = cv2.waitKey(1) & 0xFF\n",
    "    if ch == 27:\n",
    "        cv2.destroyAllWindows()\n",
    "        break\n",
    "    if ch == 32:\n",
    "        mid_frame = frame[pt[1]:pt[1]+length, pt[0]:pt[0]+length]\n",
    "        cut_frame = cv2.resize(mid_frame, (224, 224)) \n",
    "        cv2.imshow('cut', cut_frame)\n",
    "        filename = \"/home/intel/test/data/VOC4IC/\" + i +'/'+strftime('%d%H%M%S', localtime())+str(random.randrange(1,10000))+'.png'\n",
    "        cv2.imwrite(filename, cut_frame, params)\n",
    "                \n",
    "file_list = os.listdir(\"/home/intel/test/data/VOC4IC/\" + i)\n",
    "random.shuffle(file_list)\n",
    "cnt = 1\n",
    "for file_name in file_list:\n",
    "    if cnt % 5 == 3:\n",
    "        shutil.move(\"/home/intel/test/data/VOC4IC/\" + i + \"/\" + file_name, \"/home/intel/test/data/VOC4IC/test/\" + i + \"/\" + file_name)\n",
    "    elif cnt % 5 == 4:\n",
    "        shutil.move(\"/home/intel/test/data/VOC4IC/\" + i + \"/\" + file_name, \"/home/intel/test/data/VOC4IC/valid/\" + i + \"/\" + file_name)\n",
    "    else:\n",
    "        shutil.move(\"/home/intel/test/data/VOC4IC/\" + i + \"/\" + file_name, \"/home/intel/test/data/VOC4IC/train/\" + i + \"/\" + file_name)    \n",
    "    cnt += 1\n"
   ]
  },
  {
   "cell_type": "code",
   "execution_count": null,
   "metadata": {},
   "outputs": [],
   "source": []
  }
 ],
 "metadata": {
  "kernelspec": {
   "display_name": "Python 3",
   "language": "python",
   "name": "python3"
  },
  "language_info": {
   "codemirror_mode": {
    "name": "ipython",
    "version": 3
   },
   "file_extension": ".py",
   "mimetype": "text/x-python",
   "name": "python",
   "nbconvert_exporter": "python",
   "pygments_lexer": "ipython3",
   "version": "3.6.9"
  }
 },
 "nbformat": 4,
 "nbformat_minor": 2
}
