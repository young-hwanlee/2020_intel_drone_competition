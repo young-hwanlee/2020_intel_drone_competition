{
 "cells": [
  {
   "cell_type": "markdown",
   "metadata": {},
   "source": [
    "<img src='https://www.anadronestarting.com/wp-content/uploads/intel-main_opt.png' width=40%>\n",
    "\n",
    "# Lecture 005. 내가 만든 모델을 이용해 드론으로 추론하기\n",
    "\n",
    "<font size=5><div align='right'>이  인  구 (Ike Lee)</div>  \n",
    "<font size=5><div align='right'>이  해  영 (Haeyoung Lee)</div>  \n",
    "\n",
    "<img src='https://images.crutchfieldonline.com/ImageHandler/trim/620/378/products/2019/33/964/g964TELLEDU-F.jpg' width=40%>\n",
    "\n",
    "---"
   ]
  },
  {
   "cell_type": "markdown",
   "metadata": {},
   "source": [
    "#### my드론조종기.py\n",
    "my드론조종기는 드론이 내가 추가한 사물을 가지고 학습시킨 모델로 내가 설정한 target 을 인식하면 내가 작성한 script 대로 드론이 움직이게 해주는 코드입니다."
   ]
  },
  {
   "cell_type": "markdown",
   "metadata": {},
   "source": [
    "### 드론이 사용할 모델 가져오기\n",
    "Lecture002 에서 데이터를 추가해 트레이닝한 모델을 불러와서 드론에 넣어줍니다.\n",
    "\n",
    "\n",
    "위에서 모델을 만들어 저장한 경로로 가서 필요한 파일을 복사해줍니다."
   ]
  },
  {
   "cell_type": "code",
   "execution_count": 1,
   "metadata": {},
   "outputs": [
    {
     "name": "stdout",
     "output_type": "stream",
     "text": [
      "/home/intel/test/bin\n"
     ]
    }
   ],
   "source": [
    "%cd bin\n",
    "%cp -f mobilenetv2.xml mobilenetv2.bin /home/intel/test/인공지능드론/models"
   ]
  },
  {
   "cell_type": "markdown",
   "metadata": {},
   "source": [
    "## 내가 추론할 사물 이름 적어주기 <중요!!!>\n",
    "\n",
    "home/intel/test/인공지능드론/models 에서 mobilenetv2.txt 파일을 수정합니다.\n",
    "\n",
    "현재 mobilenetv2.txt 파일의 19개 사물 외에 내가 추가한 사물의 이름을 넣어줍니다.\n",
    "\n",
    "이 때 Lecture002 에서 학습시켜주었던 사물의 라벨링 순서 (알파벳 순서) 그대로 넣어줍니다. \n",
    "\n",
    "참고로 home/test/data/VOC4IC/train 아래 폴더들의 이름 순 그대로 넣어주면 됩니다. (알파벳 순서로 넣는 것이 매우 중요합니다.)\n",
    "\n",
    "#### 자, 이제 드론에서 사용할 모델 준비가 완료되었습니다."
   ]
  },
  {
   "cell_type": "markdown",
   "metadata": {},
   "source": [
    "## my드론조종기.py 사용법"
   ]
  },
  {
   "cell_type": "markdown",
   "metadata": {},
   "source": [
    "### target 설정하기\n",
    "1. my드론조종기.py 에 들어가서 ###드론이 원하는 사물 발견하면 script대로 움직이기###를 찾습니다. (234번째 line)\n",
    "2. 드론이 어떤 사물을 발견했을 때 움직이게 하고 싶은지 결정하고 그 사물을 target 1, 2, 3에 적어줍니다. 이 때 이름은 앞 강좌에서 VOC4IC 에 넣었던 사물 이름 그대로 사용합니다.\n",
    "3. 타겟을 하나 또는 두 개만 하고 싶을 때는 맨 앞에 #을 붙여주어 주석처리를 해줍니다. 이 때 첫번째, 두번째, 세번째 타겟을 주석처리 함에 따라 그 아래 해당하는 부분도 함께 주석처리를 해주어야 합니다. 현재 my드론조종기.py 에는 세번째 타겟과 그에 따른 부분을 주석처리해 준 상태입니다.\n",
    "\n",
    "### label list 수정하기\n",
    "4. 83번째 line으로 올라가서 label list에 내가 정한 target 이름을 적어주고 그 개수만큼 제거하여 총 8개로 맞추어줍니다. 이 부분은 순서 상관없이 그냥 아무거나 지우시고 원하는 target 을 넣어주시면 됩니다. \n",
    "\n",
    "### scripts 작성하기\n",
    "5. 드론이 사물을 발견했을 때 움직이는 motion은 인공지능드론/scripts에 txt 파일로 저장합니다. 이 때 스크립트 이름은 꼭 사물과 동일한 이름으로 해주어야 합니다.\n",
    "6. 위의 스크립트를 작성할 때 직접 txt 파일에 작성해도 좋고, my드론조종기.py 를 실행한 후 reset 버튼 아래 스크립트를 적는 칸에 명령어들을 적고 제목을 사물 이름으로 한 후 save 버튼을 눌러도 저장이 됩니다.\n",
    "7. 위의 안내대로 my드론조종기.py 에서 사물이름과 스크립트 작성이 완료된다면 잘 작동됩니다.\n",
    "\n",
    "### Tips\n",
    "- 아래 명령어를 통해 my드론조종기.py 를 실행하고 GUI 가 뜨면 드론 카메라에 사물을 비춰줍니다. 그럼 83번째 line 에 적힌 사물이라면 GUI 오른쪽 이미지가 방금 비춰진 사물로 update 됩니다. 혹시 여기서 '이미 실행중인 오더가 있습니다.' 라고 뜬다면, GUI 의 RESET 버튼을 눌러주면, 방금 update 된 사진이 다시 원래의 이미지로 돌아가면서 다시 인식할 수 있습니다. "
   ]
  },
  {
   "cell_type": "markdown",
   "metadata": {},
   "source": [
    "\n",
    "### GUI 오른쪽 8개 사물 사진 변경하기\n",
    "\n",
    "- GUI 를 실행하면 오른쪽에 8개 사물 사진이 뜹니다. 이 사진을 내가 훈련시킨 사물의 사진으로 변경하고 싶을 때는 아래의 방법대로 따라해주시기 바랍니다. 먼저 8개 사물 사진은 /home/intel/test/인공지능드론/res/ 밑에 저장되어있습니다. 들어가보시면 1. ~ 8. 까지 사진 8장을 볼 수 있습니다. 여기서 내가 원하는 사진을 위 경로로 들어가 폴더에 넣어줍니다. 이 때 사진의 크기는 100 * 100 으로 해주어야 나중에 GUI 에 잘 들어갈 수 있습니다. 사진을 넣은 후 이름을 변경해주어야 하는데, 왼쪽부터 아래로 갈수록 1번부터 8번입니다. 즉 비행기가 1번, 자전거가 2번, 사람이 8번 순으로 GUI 에 사진이 배치되어있습니다. \n",
    "\n",
    "- 이 때 내가 비행기 대신 추가하려는 사물이 예를 들어 꽃이라면, 꽃의 사진을 res 폴더 밑에 넣어줍니다. 그리고 터미널로 res 폴더까지 들어가신 후 'll' 을 쳐주어 해당 폴더 내의 숨김파일을 확인해줍니다. 그럼 1. ~ 8. 의 사진 외에 앞에 '.' 이 붙은 '.1. ~ .8.' 의 사진들을 추가로 더 확인할 수 있습니다. 앞에 '.' 이 하나 더 붙은 파일들이 실제 GUI 에서 볼 수 있는 사진입니다. 따라서 원래의 '.1.' 을 지우고, 꽃의 사진 이름을 '.1.' 로 변경해주어 최종적으로 GUI 의 사진을 바꿀 수 있습니다. \n",
    "\n",
    "-  터미널로 res 까지 들어간 이후 'll' 을 쳐서 숨김파일을 확인했다면, '.1.' 을 지우기 위해 'rm .1.jpg' 의 명령어를 쳐줍니다. 그리고 나서 다시 'll' 을 쳐보면 '.1.' 의 숨김 사진이 제거된 것을 확인할 수 있습니다. 그 다음 다시 res 폴더로 들어가 아까 꽃의 사진의 이름을 .1. 로 바꾸어줍니다. 바꾸어주면 숨김파일이 되어 이제 res 폴더내에 보이지 않고 터미널의 'll' 명령어를 통해서 볼 수 있게 됩니다. \n",
    "\n",
    "-  위의 방법대로 사진을 변경할 수 있으며, 사진을 다 변경한 이후에는 다시 원래의 사진으로 GUI 를 변경해주시면 감사하겠습니다."
   ]
  },
  {
   "cell_type": "markdown",
   "metadata": {},
   "source": [
    "### 명령창에서 드론 창 실행하기"
   ]
  },
  {
   "cell_type": "code",
   "execution_count": null,
   "metadata": {},
   "outputs": [
    {
     "name": "stdout",
     "output_type": "stream",
     "text": [
      "/home/intel/test/인공지능드론\n",
      "Object Detector initialize...\n",
      "/home/intel/test/인공지능드론/ObjectClassifier_Cifar10.py:32: DeprecationWarning: Reading network using constructor is deprecated. Please, use IECore.read_network() method instead\n",
      "  net = IENetwork(model=model_xml, weights=model_bin)\n",
      "/home/intel/test/인공지능드론/ObjectClassifier_Cifar10.py:33: DeprecationWarning: 'inputs' property of IENetwork class is deprecated. To access DataPtrs user need to use 'input_data' property of InputInfoPtr objects which can be accessed by 'input_info' property.\n",
      "  assert len(net.inputs.keys()) == 1\n",
      "GPU\n",
      "/home/intel/test/인공지능드론/ObjectClassifier_Cifar10.py:37: DeprecationWarning: IEPlugin class is deprecated. Please use IECore class instead.\n",
      "  plugin = IEPlugin(device=device)\n",
      "<class 'openvino.inference_engine.ie_api.IEPlugin'>\n",
      "Loading IR to the plugin...\n",
      "1 3 224 224\n",
      "Main socket binding ip : 192.168.10.2:8889\n",
      "State socket binding ip : 0.0.0.0:8890\n",
      "\u001b[0;36m[h264 @ 0x7f4ba856b660] \u001b[0m\u001b[1;31mnon-existing PPS 0 referenced\n",
      "\u001b[0m\u001b[0;36m[h264 @ 0x7f4ba856b660] \u001b[0m\u001b[1;31mnon-existing PPS 0 referenced\n",
      "\u001b[0m\u001b[0;36m[h264 @ 0x7f4ba856b660] \u001b[0m\u001b[1;31mdecode_slice_header error\n",
      "\u001b[0m\u001b[0;36m[h264 @ 0x7f4ba856b660] \u001b[0m\u001b[1;31mno frame!\n",
      "\u001b[0m\u001b[0;36m[h264 @ 0x7f4ba856b660] \u001b[0m\u001b[1;31mnon-existing PPS 0 referenced\n",
      "\u001b[0m\u001b[0;36m[h264 @ 0x7f4ba856b660] \u001b[0m\u001b[1;31mnon-existing PPS 0 referenced\n",
      "\u001b[0m\u001b[0;36m[h264 @ 0x7f4ba856b660] \u001b[0m\u001b[1;31mdecode_slice_header error\n",
      "\u001b[0m\u001b[0;36m[h264 @ 0x7f4ba856b660] \u001b[0m\u001b[1;31mno frame!\n",
      "\u001b[0m\u001b[0;36m[h264 @ 0x7f4ba856b660] \u001b[0m\u001b[1;31mnon-existing PPS 0 referenced\n",
      "\u001b[0m\u001b[0;36m[h264 @ 0x7f4ba856b660] \u001b[0m\u001b[1;31mnon-existing PPS 0 referenced\n",
      "\u001b[0m\u001b[0;36m[h264 @ 0x7f4ba856b660] \u001b[0m\u001b[1;31mdecode_slice_header error\n",
      "\u001b[0m\u001b[0;36m[h264 @ 0x7f4ba856b660] \u001b[0m\u001b[1;31mno frame!\n",
      "\u001b[0m\u001b[0;36m[h264 @ 0x7f4ba856b660] \u001b[0m\u001b[1;31mnon-existing PPS 0 referenced\n",
      "\u001b[0m\u001b[0;36m[h264 @ 0x7f4ba856b660] \u001b[0m\u001b[1;31mnon-existing PPS 0 referenced\n",
      "\u001b[0m\u001b[0;36m[h264 @ 0x7f4ba856b660] \u001b[0m\u001b[1;31mdecode_slice_header error\n",
      "\u001b[0m\u001b[0;36m[h264 @ 0x7f4ba856b660] \u001b[0m\u001b[1;31mno frame!\n",
      "\u001b[0m\u001b[0;36m[h264 @ 0x7f4ba856b660] \u001b[0m\u001b[1;31mnon-existing PPS 0 referenced\n",
      "\u001b[0m\u001b[0;36m[h264 @ 0x7f4ba856b660] \u001b[0m\u001b[1;31mnon-existing PPS 0 referenced\n",
      "\u001b[0m\u001b[0;36m[h264 @ 0x7f4ba856b660] \u001b[0m\u001b[1;31mdecode_slice_header error\n",
      "\u001b[0m\u001b[0;36m[h264 @ 0x7f4ba856b660] \u001b[0m\u001b[1;31mno frame!\n",
      "\u001b[0m\u001b[0;36m[h264 @ 0x7f4ba856b660] \u001b[0m\u001b[1;31mnon-existing PPS 0 referenced\n",
      "\u001b[0m\u001b[0;36m[h264 @ 0x7f4ba856b660] \u001b[0m\u001b[1;31mnon-existing PPS 0 referenced\n",
      "\u001b[0m\u001b[0;36m[h264 @ 0x7f4ba856b660] \u001b[0m\u001b[1;31mdecode_slice_header error\n",
      "\u001b[0m\u001b[0;36m[h264 @ 0x7f4ba856b660] \u001b[0m\u001b[1;31mno frame!\n",
      "\u001b[0m\u001b[0;36m[h264 @ 0x7f4ba856b660] \u001b[0m\u001b[1;31mnon-existing PPS 0 referenced\n",
      "\u001b[0m\u001b[0;36m[h264 @ 0x7f4ba856b660] \u001b[0m\u001b[1;31mnon-existing PPS 0 referenced\n",
      "\u001b[0m\u001b[0;36m[h264 @ 0x7f4ba856b660] \u001b[0m\u001b[1;31mdecode_slice_header error\n",
      "\u001b[0m\u001b[0;36m[h264 @ 0x7f4ba856b660] \u001b[0m\u001b[1;31mno frame!\n",
      "\u001b[0m\u001b[0;36m[h264 @ 0x7f4ba856b660] \u001b[0m\u001b[1;31mnon-existing PPS 0 referenced\n",
      "\u001b[0m\u001b[0;36m[h264 @ 0x7f4ba856b660] \u001b[0m\u001b[1;31mnon-existing PPS 0 referenced\n",
      "\u001b[0m\u001b[0;36m[h264 @ 0x7f4ba856b660] \u001b[0m\u001b[1;31mdecode_slice_header error\n",
      "\u001b[0m\u001b[0;36m[h264 @ 0x7f4ba856b660] \u001b[0m\u001b[1;31mno frame!\n",
      "\u001b[0m\u001b[0;36m[h264 @ 0x7f4ba856b660] \u001b[0m\u001b[1;31mnon-existing PPS 0 referenced\n",
      "\u001b[0m\u001b[0;36m[h264 @ 0x7f4ba856b660] \u001b[0m\u001b[1;31mnon-existing PPS 0 referenced\n",
      "\u001b[0m\u001b[0;36m[h264 @ 0x7f4ba856b660] \u001b[0m\u001b[1;31mdecode_slice_header error\n",
      "\u001b[0m\u001b[0;36m[h264 @ 0x7f4ba856b660] \u001b[0m\u001b[1;31mno frame!\n",
      "\u001b[0m\u001b[0;36m[h264 @ 0x7f4ba856b660] \u001b[0m\u001b[1;31mnon-existing PPS 0 referenced\n",
      "\u001b[0m\u001b[0;36m[h264 @ 0x7f4ba856b660] \u001b[0m\u001b[1;31mnon-existing PPS 0 referenced\n",
      "\u001b[0m\u001b[0;36m[h264 @ 0x7f4ba856b660] \u001b[0m\u001b[1;31mdecode_slice_header error\n",
      "\u001b[0m\u001b[0;36m[h264 @ 0x7f4ba856b660] \u001b[0m\u001b[1;31mno frame!\n",
      "\u001b[0m\u001b[0;36m[h264 @ 0x7f4ba856b660] \u001b[0m\u001b[1;31mnon-existing PPS 0 referenced\n",
      "\u001b[0m\u001b[0;36m[h264 @ 0x7f4ba856b660] \u001b[0m\u001b[1;31mnon-existing PPS 0 referenced\n",
      "\u001b[0m\u001b[0;36m[h264 @ 0x7f4ba856b660] \u001b[0m\u001b[1;31mdecode_slice_header error\n",
      "\u001b[0m\u001b[0;36m[h264 @ 0x7f4ba856b660] \u001b[0m\u001b[1;31mno frame!\n",
      "\u001b[0m\u001b[0;36m[h264 @ 0x7f4ba856b660] \u001b[0m\u001b[1;31mnon-existing PPS 0 referenced\n",
      "\u001b[0m\u001b[0;36m[h264 @ 0x7f4ba856b660] \u001b[0m\u001b[1;31mnon-existing PPS 0 referenced\n",
      "\u001b[0m\u001b[0;36m[h264 @ 0x7f4ba856b660] \u001b[0m\u001b[1;31mdecode_slice_header error\n",
      "\u001b[0m\u001b[0;36m[h264 @ 0x7f4ba856b660] \u001b[0m\u001b[1;31mno frame!\n",
      "\u001b[0m\u001b[0;36m[h264 @ 0x7f4ba856b660] \u001b[0m\u001b[1;31mnon-existing PPS 0 referenced\n",
      "\u001b[0m\u001b[0;36m[h264 @ 0x7f4ba856b660] \u001b[0m\u001b[1;31mnon-existing PPS 0 referenced\n",
      "\u001b[0m\u001b[0;36m[h264 @ 0x7f4ba856b660] \u001b[0m\u001b[1;31mdecode_slice_header error\n",
      "\u001b[0m\u001b[0;36m[h264 @ 0x7f4ba856b660] \u001b[0m\u001b[1;31mno frame!\n",
      "\u001b[0m\u001b[0;36m[h264 @ 0x7f4ba856b660] \u001b[0m\u001b[1;31mnon-existing PPS 0 referenced\n",
      "\u001b[0m\u001b[0;36m[h264 @ 0x7f4ba856b660] \u001b[0m\u001b[1;31mnon-existing PPS 0 referenced\n",
      "\u001b[0m\u001b[0;36m[h264 @ 0x7f4ba856b660] \u001b[0m\u001b[1;31mdecode_slice_header error\n",
      "\u001b[0m\u001b[0;36m[h264 @ 0x7f4ba856b660] \u001b[0m\u001b[1;31mno frame!\n",
      "\u001b[0m\u001b[0;36m[h264 @ 0x7f4ba856b660] \u001b[0m\u001b[1;31mnon-existing PPS 0 referenced\n",
      "\u001b[0m\u001b[0;36m[h264 @ 0x7f4ba856b660] \u001b[0m\u001b[1;31mnon-existing PPS 0 referenced\n",
      "\u001b[0m\u001b[0;36m[h264 @ 0x7f4ba856b660] \u001b[0m\u001b[1;31mdecode_slice_header error\n",
      "\u001b[0m\u001b[0;36m[h264 @ 0x7f4ba856b660] \u001b[0m\u001b[1;31mno frame!\n",
      "\u001b[0m\u001b[0;36m[h264 @ 0x7f4ba856b660] \u001b[0m\u001b[1;31mnon-existing PPS 0 referenced\n",
      "\u001b[0m\u001b[0;36m[h264 @ 0x7f4ba856b660] \u001b[0m\u001b[1;31mnon-existing PPS 0 referenced\n",
      "\u001b[0m\u001b[0;36m[h264 @ 0x7f4ba856b660] \u001b[0m\u001b[1;31mdecode_slice_header error\n",
      "\u001b[0m\u001b[0;36m[h264 @ 0x7f4ba856b660] \u001b[0m\u001b[1;31mno frame!\n",
      "\u001b[0m"
     ]
    }
   ],
   "source": [
    "%cd /home/intel/test/인공지능드론\n",
    "! python3 my드론조종기.py True"
   ]
  },
  {
   "cell_type": "code",
   "execution_count": null,
   "metadata": {},
   "outputs": [],
   "source": []
  },
  {
   "cell_type": "code",
   "execution_count": null,
   "metadata": {},
   "outputs": [],
   "source": []
  }
 ],
 "metadata": {
  "kernelspec": {
   "display_name": "Python 3",
   "language": "python",
   "name": "python3"
  },
  "language_info": {
   "codemirror_mode": {
    "name": "ipython",
    "version": 3
   },
   "file_extension": ".py",
   "mimetype": "text/x-python",
   "name": "python",
   "nbconvert_exporter": "python",
   "pygments_lexer": "ipython3",
   "version": "3.6.9"
  }
 },
 "nbformat": 4,
 "nbformat_minor": 2
}
